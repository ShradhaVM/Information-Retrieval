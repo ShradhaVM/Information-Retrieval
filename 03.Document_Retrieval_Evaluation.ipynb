{
  "nbformat": 4,
  "nbformat_minor": 0,
  "metadata": {
    "colab": {
      "name": "IR_202011029_Assignment3.ipynb",
      "provenance": [],
      "collapsed_sections": []
    },
    "kernelspec": {
      "name": "python38564bit072a762024a64c92ba65cc5a87cd38e8",
      "display_name": "Python 3.8.5 64-bit",
      "language": "python"
    }
  },
  "cells": [
    {
      "cell_type": "markdown",
      "metadata": {
        "id": "BoBmB4jYCjv2"
      },
      "source": [
        "# Downloading the Dataset"
      ]
    },
    {
      "cell_type": "code",
      "metadata": {
        "id": "FR0ljoIQgDnA",
        "colab": {
          "base_uri": "https://localhost:8080/"
        },
        "outputId": "ba249eb4-f54a-471e-80cb-764554786afd"
      },
      "source": [
        "!gdown --id 1JuawXQmYVkjpfL3H0blqjDrqw8V1lHrC"
      ],
      "execution_count": null,
      "outputs": [
        {
          "output_type": "stream",
          "text": [
            "Downloading...\n",
            "From: https://drive.google.com/uc?id=1JuawXQmYVkjpfL3H0blqjDrqw8V1lHrC\n",
            "To: /home/akarofl/Desktop/Projects/Makkhi/IR A3/FIRE_Dataset_EN_2010.rar\n",
            "133MB [01:59, 1.12MB/s]\n"
          ],
          "name": "stdout"
        }
      ]
    },
    {
      "cell_type": "markdown",
      "metadata": {
        "id": "xGmkY0aFCnxN"
      },
      "source": [
        "# Extracting the Dataset"
      ]
    },
    {
      "cell_type": "code",
      "metadata": {
        "colab": {
          "base_uri": "https://localhost:8080/"
        },
        "id": "frspSejJh7M1",
        "outputId": "f2867cc3-58f7-404d-d160-166afbd7a1ac"
      },
      "source": [
        "!unrar x FIRE_Dataset_EN_2010.rar"
      ],
      "execution_count": null,
      "outputs": [
        {
          "output_type": "stream",
          "text": [
            "\n",
            "UNRAR 5.61 beta 1 freeware      Copyright (c) 1993-2018 Alexander Roshal\n",
            "\n",
            "\n",
            "Extracting from FIRE_Dataset_EN_2010.rar\n",
            "\n",
            "Creating    FIRE_Dataset_EN_2010                                      OK\n",
            "Extracting  FIRE_Dataset_EN_2010/en.qrels.76-125.2010.txt.gz             0  OK \n",
            "Extracting  FIRE_Dataset_EN_2010/en.topics.76-125.2010.txt               0  OK \n",
            "Extracting  FIRE_Dataset_EN_2010/English-Data.tgz                             1 1 1 2 2 2 3 3 3 4 4 4 5 5 5 6 6 6 6 7 7 7 8 8 8 9 9 9 99  OK \n",
            "All OK\n"
          ],
          "name": "stdout"
        }
      ]
    },
    {
      "cell_type": "code",
      "metadata": {
        "colab": {
          "base_uri": "https://localhost:8080/"
        },
        "id": "Nz7Ga30biRwa",
        "tags": [
          "outputPrepend"
        ],
        "outputId": "d9a8a9ff-07d5-400b-d6b7-e9918b494bc7"
      },
      "source": [
        "!tar -xvzf FIRE_Dataset_EN_2010/English-Data.tgz"
      ],
      "execution_count": null,
      "outputs": [
        {
          "output_type": "stream",
          "text": [
            "ry_7925796.utf8\n",
            "TELEGRAPH_UTF8/2007_utf8/sports/1070722_sports_story_8091125.utf8\n",
            "TELEGRAPH_UTF8/2007_utf8/sports/1070416_sports_story_7652990.utf8\n",
            "TELEGRAPH_UTF8/2007_utf8/sports/1070310_sports_story_7497024.utf8\n",
            "TELEGRAPH_UTF8/2007_utf8/sports/1070702_sports_story_8003930.utf8\n",
            "TELEGRAPH_UTF8/2007_utf8/sports/1070523_sports_story_7817201.utf8\n",
            "TELEGRAPH_UTF8/2007_utf8/sports/1070421_sports_story_7676644.utf8\n",
            "TELEGRAPH_UTF8/2007_utf8/sports/1070325_sports_story_7562923.utf8\n",
            "TELEGRAPH_UTF8/2007_utf8/sports/1070702_sports_story_8003598.utf8\n",
            "TELEGRAPH_UTF8/2007_utf8/sports/1070227_sports_story_7445769.utf8\n",
            "TELEGRAPH_UTF8/2007_utf8/sports/1070128_sports_story_7316676.utf8\n",
            "TELEGRAPH_UTF8/2007_utf8/sports/1070222_sports_story_7424674.utf8\n",
            "TELEGRAPH_UTF8/2007_utf8/sports/1070727_sports_story_8112983.utf8\n",
            "TELEGRAPH_UTF8/2007_utf8/sports/1070320_sports_story_7541322.utf8\n",
            "TELEGRAPH_UTF8/2007_utf8/sports/1070119_sports_story_7281837.utf8\n",
            "TELEGRAPH_UTF8/2007_utf8/sports/1070831_sports_story_8258236.utf8\n",
            "TELEGRAPH_UTF8/2007_utf8/sports/1070503_sports_story_7727605.utf8\n",
            "TELEGRAPH_UTF8/2007_utf8/sports/1070712_sports_story_8048528.utf8\n",
            "TELEGRAPH_UTF8/2007_utf8/sports/1070417_sports_story_7657165.utf8\n",
            "TELEGRAPH_UTF8/2007_utf8/sports/1070924_sports_story_8353706.utf8\n",
            "TELEGRAPH_UTF8/2007_utf8/sports/1070429_sports_story_7713003.utf8\n",
            "TELEGRAPH_UTF8/2007_utf8/sports/1070420_sports_story_7672304.utf8\n",
            "TELEGRAPH_UTF8/2007_utf8/sports/1070308_sports_story_7487810.utf8\n",
            "TELEGRAPH_UTF8/2007_utf8/sports/1070601_sports_story_7860680.utf8\n",
            "TELEGRAPH_UTF8/2007_utf8/sports/1070211_sports_index.utf8\n",
            "TELEGRAPH_UTF8/2007_utf8/sports/1070726_sports_story_8108072.utf8\n",
            "TELEGRAPH_UTF8/2007_utf8/sports/1070516_sports_story_7784031.utf8\n",
            "TELEGRAPH_UTF8/2007_utf8/sports/1070205_sports_story_7351081.utf8\n",
            "TELEGRAPH_UTF8/2007_utf8/sports/1070417_sports_story_7657225.utf8\n",
            "TELEGRAPH_UTF8/2007_utf8/sports/1070212_sports_story_7381096.utf8\n",
            "TELEGRAPH_UTF8/2007_utf8/sports/1070129_sports_story_7320168.utf8\n",
            "TELEGRAPH_UTF8/2007_utf8/sports/1070809_sports_story_8170073.utf8\n",
            "TELEGRAPH_UTF8/2007_utf8/sports/1070202_sports_story_7339091.utf8\n",
            "TELEGRAPH_UTF8/2007_utf8/sports/1070118_sports_story_7277551.utf8\n",
            "TELEGRAPH_UTF8/2007_utf8/sports/1070925_sports_story_8357818.utf8\n",
            "TELEGRAPH_UTF8/2007_utf8/sports/1070627_sports_story_7980213.utf8\n",
            "TELEGRAPH_UTF8/2007_utf8/sports/1070730_sports_story_8124520.utf8\n",
            "TELEGRAPH_UTF8/2007_utf8/sports/1070415_sports_story_7649973.utf8\n",
            "TELEGRAPH_UTF8/2007_utf8/sports/1070109_sports_story_7237604.utf8\n",
            "TELEGRAPH_UTF8/2007_utf8/sports/1070203_sports_story_7344031.utf8\n",
            "TELEGRAPH_UTF8/2007_utf8/sports/1070626_sports_index.utf8\n",
            "TELEGRAPH_UTF8/2007_utf8/sports/1070321_sports_story_7544720.utf8\n",
            "TELEGRAPH_UTF8/2007_utf8/sports/1070226_sports_story_7441366.utf8\n",
            "TELEGRAPH_UTF8/2007_utf8/sports/1070704_sports_story_8013618.utf8\n",
            "TELEGRAPH_UTF8/2007_utf8/sports/1070920_sports_story_8339290.utf8\n",
            "TELEGRAPH_UTF8/2007_utf8/sports/1070924_sports_story_8353984.utf8\n",
            "TELEGRAPH_UTF8/2007_utf8/sports/1070415_sports_story_7649813.utf8\n",
            "TELEGRAPH_UTF8/2007_utf8/sports/1070428_sports_story_7707863.utf8\n",
            "TELEGRAPH_UTF8/2007_utf8/sports/1070313_sports_story_7509582.utf8\n",
            "TELEGRAPH_UTF8/2007_utf8/sports/1070117_sports_story_7272597.utf8\n",
            "TELEGRAPH_UTF8/2007_utf8/sports/1070524_sports_story_7821601.utf8\n",
            "TELEGRAPH_UTF8/2007_utf8/sports/1070609_sports_story_7899052.utf8\n",
            "TELEGRAPH_UTF8/2007_utf8/sports/1070422_sports_story_7680184.utf8\n",
            "TELEGRAPH_UTF8/2007_utf8/sports/1070811_sports_story_8179255.utf8\n",
            "TELEGRAPH_UTF8/2007_utf8/sports/1070305_sports_story_7471246.utf8\n",
            "TELEGRAPH_UTF8/2007_utf8/sports/1070512_sports_index.utf8\n",
            "TELEGRAPH_UTF8/2007_utf8/sports/1070430_sports_story_7716553.utf8\n",
            "TELEGRAPH_UTF8/2007_utf8/sports/1070921_sports_story_8343521.utf8\n",
            "TELEGRAPH_UTF8/2007_utf8/sports/1070823_sports_story_8226845.utf8\n",
            "TELEGRAPH_UTF8/2007_utf8/sports/1070710_sports_story_8039111.utf8\n",
            "TELEGRAPH_UTF8/2007_utf8/sports/1070711_sports_story_8043897.utf8\n",
            "TELEGRAPH_UTF8/2007_utf8/sports/1070625_sports_story_7969945.utf8\n",
            "TELEGRAPH_UTF8/2007_utf8/sports/1070627_sports_story_7980378.utf8\n",
            "TELEGRAPH_UTF8/2007_utf8/sports/1070115_sports_story_7263267.utf8\n",
            "TELEGRAPH_UTF8/2007_utf8/sports/1070614_sports_story_7921065.utf8\n",
            "TELEGRAPH_UTF8/2007_utf8/sports/1070506_sports_story_7740456.utf8\n",
            "TELEGRAPH_UTF8/2007_utf8/sports/1070624_sports_story_7966366.utf8\n",
            "TELEGRAPH_UTF8/2007_utf8/sports/1070501_sports_story_7721398.utf8\n",
            "TELEGRAPH_UTF8/2007_utf8/sports/1070825_sports_story_8235417.utf8\n",
            "TELEGRAPH_UTF8/2007_utf8/sports/1070930_sports_story_8378338.utf8\n",
            "TELEGRAPH_UTF8/2007_utf8/sports/1070211_sports_story_7378226.utf8\n",
            "TELEGRAPH_UTF8/2007_utf8/sports/1070927_sports_story_8366840.utf8\n",
            "TELEGRAPH_UTF8/2007_utf8/sports/1070202_sports_story_7339014.utf8\n",
            "TELEGRAPH_UTF8/2007_utf8/sports/1070207_sports_story_7360734.utf8\n",
            "TELEGRAPH_UTF8/2007_utf8/sports/1070414_sports_story_7646335.utf8\n",
            "TELEGRAPH_UTF8/2007_utf8/sports/1070819_sports_story_8209838.utf8\n",
            "TELEGRAPH_UTF8/2007_utf8/sports/1070106_sports_story_7226803.utf8\n",
            "TELEGRAPH_UTF8/2007_utf8/sports/1070613_sports_story_7916399.utf8\n",
            "TELEGRAPH_UTF8/2007_utf8/sports/1070208_sports_story_7364845.utf8\n",
            "TELEGRAPH_UTF8/2007_utf8/sports/1070402_sports_story_7595869.utf8\n",
            "TELEGRAPH_UTF8/2007_utf8/sports/1070828_sports_story_8245480.utf8\n",
            "TELEGRAPH_UTF8/2007_utf8/sports/1070826_sports_story_8238739.utf8\n",
            "TELEGRAPH_UTF8/2007_utf8/sports/1070107_sports_story_7230288.utf8\n",
            "TELEGRAPH_UTF8/2007_utf8/sports/1070511_sports_index.utf8\n",
            "TELEGRAPH_UTF8/2007_utf8/sports/1070610_sports_story_7902661.utf8\n",
            "TELEGRAPH_UTF8/2007_utf8/sports/1070929_sports_story_8375420.utf8\n",
            "TELEGRAPH_UTF8/2007_utf8/sports/1070807_sports_story_8159933.utf8\n",
            "TELEGRAPH_UTF8/2007_utf8/sports/1070823_sports_story_8226731.utf8\n",
            "TELEGRAPH_UTF8/2007_utf8/sports/1070719_sports_index.utf8\n",
            "TELEGRAPH_UTF8/2007_utf8/sports/1070206_sports_story_7355795.utf8\n",
            "TELEGRAPH_UTF8/2007_utf8/sports/1070827_sports_story_8241670.utf8\n",
            "TELEGRAPH_UTF8/2007_utf8/sports/1070804_sports_story_8147975.utf8\n",
            "TELEGRAPH_UTF8/2007_utf8/sports/1070831_sports_story_8257284.utf8\n",
            "TELEGRAPH_UTF8/2007_utf8/sports/1070213_sports_story_7386376.utf8\n",
            "TELEGRAPH_UTF8/2007_utf8/sports/1070317_sports_story_7528267.utf8\n",
            "TELEGRAPH_UTF8/2007_utf8/sports/1070221_sports_story_7420240.utf8\n",
            "TELEGRAPH_UTF8/2007_utf8/sports/1070210_sports_story_7374631.utf8\n",
            "TELEGRAPH_UTF8/2007_utf8/sports/1070605_sports_story_7877789.utf8\n",
            "TELEGRAPH_UTF8/2007_utf8/sports/1070514_sports_story_7774183.utf8\n",
            "TELEGRAPH_UTF8/2007_utf8/sports/1070425_sports_story_7694633.utf8\n",
            "TELEGRAPH_UTF8/2007_utf8/sports/1070201_sports_story_7334055.utf8\n",
            "TELEGRAPH_UTF8/2007_utf8/sports/1070511_sports_story_7762464.utf8\n",
            "TELEGRAPH_UTF8/2007_utf8/sports/1070804_sports_story_8147785.utf8\n",
            "TELEGRAPH_UTF8/2007_utf8/sports/1070724_sports_story_8098905.utf8\n",
            "TELEGRAPH_UTF8/2007_utf8/sports/1070518_sports_story_7794671.utf8\n",
            "TELEGRAPH_UTF8/2007_utf8/sports/1070830_sports_story_8254413.utf8\n",
            "TELEGRAPH_UTF8/2007_utf8/sports/1070624_sports_story_7966367.utf8\n",
            "TELEGRAPH_UTF8/2007_utf8/sports/1070423_sports_story_7683904.utf8\n",
            "TELEGRAPH_UTF8/2007_utf8/sports/1070320_sports_story_7541384.utf8\n",
            "TELEGRAPH_UTF8/2007_utf8/sports/1070627_sports_story_7980371.utf8\n",
            "TELEGRAPH_UTF8/2007_utf8/sports/1070731_sports_story_8128425.utf8\n",
            "TELEGRAPH_UTF8/2007_utf8/sports/1070902_sports_story_8265890.utf8\n",
            "TELEGRAPH_UTF8/2007_utf8/sports/1070923_sports_story_8350722.utf8\n",
            "TELEGRAPH_UTF8/2007_utf8/sports/1070725_sports_story_8102999.utf8\n",
            "TELEGRAPH_UTF8/2007_utf8/sports/1070125_sports_story_7306051.utf8\n",
            "TELEGRAPH_UTF8/2007_utf8/sports/1070918_sports_story_8329981.utf8\n",
            "TELEGRAPH_UTF8/2007_utf8/sports/1070524_sports_story_7821550.utf8\n",
            "TELEGRAPH_UTF8/2007_utf8/sports/1070519_sports_story_7799563.utf8\n",
            "TELEGRAPH_UTF8/2007_utf8/sports/1070630_sports_story_7995939.utf8\n",
            "TELEGRAPH_UTF8/2007_utf8/sports/1070425_sports_story_7694495.utf8\n",
            "TELEGRAPH_UTF8/2007_utf8/sports/1070831_sports_story_8258341.utf8\n",
            "TELEGRAPH_UTF8/2007_utf8/sports/1070129_sports_story_7320174.utf8\n",
            "TELEGRAPH_UTF8/2007_utf8/sports/1070404_sports_story_7604681.utf8\n",
            "TELEGRAPH_UTF8/2007_utf8/sports/1070820_sports_story_8213480.utf8\n",
            "TELEGRAPH_UTF8/2007_utf8/sports/1070424_sports_story_7689028.utf8\n",
            "TELEGRAPH_UTF8/2007_utf8/sports/1070106_sports_story_7227250.utf8\n",
            "TELEGRAPH_UTF8/2007_utf8/sports/1070205_sports_story_7351086.utf8\n",
            "TELEGRAPH_UTF8/2007_utf8/sports/1070329_sports_story_7579529.utf8\n",
            "TELEGRAPH_UTF8/2007_utf8/sports/1070214_sports_story_7391043.utf8\n",
            "TELEGRAPH_UTF8/2007_utf8/sports/1070723_sports_story_8094092.utf8\n",
            "TELEGRAPH_UTF8/2007_utf8/sports/1070112_sports_index.utf8\n",
            "TELEGRAPH_UTF8/2007_utf8/sports/1070222_sports_story_7425261.utf8\n",
            "TELEGRAPH_UTF8/2007_utf8/sports/1070419_sports_story_7666508.utf8\n",
            "TELEGRAPH_UTF8/2007_utf8/sports/1070219_sports_story_7410905.utf8\n",
            "TELEGRAPH_UTF8/2007_utf8/sports/1070117_sports_story_7272374.utf8\n",
            "TELEGRAPH_UTF8/2007_utf8/sports/1070908_sports_story_8291142.utf8\n",
            "TELEGRAPH_UTF8/2007_utf8/sports/1070107_sports_story_7230406.utf8\n",
            "TELEGRAPH_UTF8/2007_utf8/sports/1070528_sports_story_7840115.utf8\n",
            "TELEGRAPH_UTF8/2007_utf8/sports/1070914_sports_story_8316273.utf8\n",
            "TELEGRAPH_UTF8/2007_utf8/sports/1070430_sports_story_7717046.utf8\n",
            "TELEGRAPH_UTF8/2007_utf8/sports/1070612_sports_story_7911361.utf8\n",
            "TELEGRAPH_UTF8/2007_utf8/sports/1070225_sports_story_7438489.utf8\n",
            "TELEGRAPH_UTF8/2007_utf8/sports/1070311_sports_story_7500779.utf8\n",
            "TELEGRAPH_UTF8/2007_utf8/sports/1070624_sports_story_7966371.utf8\n",
            "TELEGRAPH_UTF8/2007_utf8/sports/1070313_sports_story_7509571.utf8\n",
            "TELEGRAPH_UTF8/2007_utf8/sports/1070121_sports_story_7290303.utf8\n",
            "TELEGRAPH_UTF8/2007_utf8/sports/1070622_sports_story_7956366.utf8\n",
            "TELEGRAPH_UTF8/2007_utf8/sports/1070605_sports_story_7877745.utf8\n",
            "TELEGRAPH_UTF8/2007_utf8/sports/1070615_sports_story_7925734.utf8\n",
            "TELEGRAPH_UTF8/2007_utf8/sports/1070315_sports_story_7519196.utf8\n",
            "TELEGRAPH_UTF8/2007_utf8/sports/1070504_sports_story_7732630.utf8\n",
            "TELEGRAPH_UTF8/2007_utf8/sports/1070917_sports_story_8325958.utf8\n",
            "TELEGRAPH_UTF8/2007_utf8/sports/1070725_sports_story_8102997.utf8\n",
            "TELEGRAPH_UTF8/2007_utf8/sports/1070803_sports_story_8143014.utf8\n",
            "TELEGRAPH_UTF8/2007_utf8/sports/1070422_sports_story_7680183.utf8\n",
            "TELEGRAPH_UTF8/2007_utf8/sports/1070111_sports_story_7246953.utf8\n",
            "TELEGRAPH_UTF8/2007_utf8/sports/1070409_sports_story_7623934.utf8\n",
            "TELEGRAPH_UTF8/2007_utf8/sports/1070605_sports_story_7877890.utf8\n",
            "TELEGRAPH_UTF8/2007_utf8/sports/1070817_sports_story_8199476.utf8\n",
            "TELEGRAPH_UTF8/2007_utf8/sports/1070704_sports_story_8013426.utf8\n",
            "TELEGRAPH_UTF8/2007_utf8/sports/1070531_sports_story_7855126.utf8\n",
            "TELEGRAPH_UTF8/2007_utf8/sports/1070628_sports_story_7985734.utf8\n",
            "TELEGRAPH_UTF8/2007_utf8/sports/1070207_sports_story_7360735.utf8\n",
            "TELEGRAPH_UTF8/2007_utf8/sports/1070920_sports_story_8339138.utf8\n",
            "TELEGRAPH_UTF8/2007_utf8/sports/1070802_sports_story_8138646.utf8\n",
            "TELEGRAPH_UTF8/2007_utf8/sports/1070806_sports_story_8155144.utf8\n",
            "TELEGRAPH_UTF8/2007_utf8/sports/1070903_sports_story_8269006.utf8\n",
            "TELEGRAPH_UTF8/2007_utf8/sports/1070329_sports_story_7580169.utf8\n",
            "TELEGRAPH_UTF8/2007_utf8/sports/1070711_sports_story_8042315.utf8\n",
            "TELEGRAPH_UTF8/2007_utf8/sports/1070418_sports_story_7661973.utf8\n",
            "TELEGRAPH_UTF8/2007_utf8/sports/1070831_sports_story_8258345.utf8\n",
            "TELEGRAPH_UTF8/2007_utf8/sports/1070903_sports_story_8269341.utf8\n",
            "TELEGRAPH_UTF8/2007_utf8/sports/1070613_sports_story_7916471.utf8\n",
            "TELEGRAPH_UTF8/2007_utf8/sports/1070228_sports_story_7451153.utf8\n",
            "TELEGRAPH_UTF8/2007_utf8/sports/1070713_sports_story_8053313.utf8\n",
            "TELEGRAPH_UTF8/2007_utf8/sports/1070630_sports_story_7996238.utf8\n",
            "TELEGRAPH_UTF8/2007_utf8/sports/1070508_sports_story_7748199.utf8\n",
            "TELEGRAPH_UTF8/2007_utf8/sports/1070408_sports_story_7621097.utf8\n",
            "TELEGRAPH_UTF8/2007_utf8/sports/1070720_sports_story_8083129.utf8\n",
            "TELEGRAPH_UTF8/2007_utf8/sports/1070521_sports_story_7807257.utf8\n",
            "TELEGRAPH_UTF8/2007_utf8/sports/1070920_sports_story_8339026.utf8\n",
            "TELEGRAPH_UTF8/2007_utf8/sports/1070724_sports_story_8098901.utf8\n",
            "TELEGRAPH_UTF8/2007_utf8/sports/1070424_sports_story_7689602.utf8\n",
            "TELEGRAPH_UTF8/2007_utf8/sports/1070224_sports_story_7434929.utf8\n",
            "TELEGRAPH_UTF8/2007_utf8/sports/1070902_sports_story_8265934.utf8\n",
            "TELEGRAPH_UTF8/2007_utf8/sports/1070620_sports_index.utf8\n",
            "TELEGRAPH_UTF8/2007_utf8/sports/1070103_sports_story_7214376.utf8\n",
            "TELEGRAPH_UTF8/2007_utf8/sports/1070802_sports_story_8137979.utf8\n",
            "TELEGRAPH_UTF8/2007_utf8/sports/1070420_sports_story_7672300.utf8\n",
            "TELEGRAPH_UTF8/2007_utf8/sports/1070819_sports_story_8209880.utf8\n",
            "TELEGRAPH_UTF8/2007_utf8/sports/1070330_sports_story_7583542.utf8\n",
            "TELEGRAPH_UTF8/2007_utf8/sports/1070329_sports_story_7579848.utf8\n",
            "TELEGRAPH_UTF8/2007_utf8/sports/1070310_sports_index.utf8\n",
            "TELEGRAPH_UTF8/2007_utf8/sports/1070110_sports_story_7242127.utf8\n",
            "TELEGRAPH_UTF8/2007_utf8/sports/1070309_sports_story_7493320.utf8\n",
            "TELEGRAPH_UTF8/2007_utf8/sports/1070302_sports_story_7460535.utf8\n",
            "TELEGRAPH_UTF8/2007_utf8/sports/1070821_sports_story_8217527.utf8\n",
            "TELEGRAPH_UTF8/2007_utf8/sports/1070720_sports_story_8083238.utf8\n",
            "TELEGRAPH_UTF8/2007_utf8/sports/1070910_sports_story_8298135.utf8\n",
            "TELEGRAPH_UTF8/2007_utf8/sports/1070603_sports_story_7869247.utf8\n",
            "TELEGRAPH_UTF8/2007_utf8/sports/1070628_sports_story_7985731.utf8\n",
            "TELEGRAPH_UTF8/2007_utf8/sports/1070203_sports_story_7343122.utf8\n",
            "TELEGRAPH_UTF8/2007_utf8/sports/1070920_sports_story_8339376.utf8\n",
            "TELEGRAPH_UTF8/2007_utf8/sports/1070722_sports_story_8091350.utf8\n",
            "TELEGRAPH_UTF8/2007_utf8/sports/1070312_sports_story_7504809.utf8\n",
            "TELEGRAPH_UTF8/2007_utf8/sports/1070717_sports_story_8068464.utf8\n",
            "TELEGRAPH_UTF8/2007_utf8/sports/1070507_sports_story_7743732.utf8\n",
            "TELEGRAPH_UTF8/2007_utf8/sports/1070309_sports_story_7490916.utf8\n",
            "TELEGRAPH_UTF8/2007_utf8/sports/1070726_sports_story_8107776.utf8\n",
            "TELEGRAPH_UTF8/2007_utf8/sports/1070902_sports_story_8265921.utf8\n",
            "TELEGRAPH_UTF8/2007_utf8/sports/1070611_sports_story_7906380.utf8\n",
            "TELEGRAPH_UTF8/2007_utf8/sports/1070122_sports_story_7293793.utf8\n",
            "TELEGRAPH_UTF8/2007_utf8/sports/1070812_sports_story_8182670.utf8\n",
            "TELEGRAPH_UTF8/2007_utf8/sports/1070923_sports_story_8350682.utf8\n",
            "TELEGRAPH_UTF8/2007_utf8/sports/1070610_sports_story_7902664.utf8\n",
            "TELEGRAPH_UTF8/2007_utf8/sports/1070805_sports_story_8151549.utf8\n",
            "TELEGRAPH_UTF8/2007_utf8/sports/1070922_sports_story_8347407.utf8\n",
            "TELEGRAPH_UTF8/2007_utf8/sports/1070508_sports_story_7748195.utf8\n",
            "TELEGRAPH_UTF8/2007_utf8/sports/1070715_sports_story_8061121.utf8\n",
            "TELEGRAPH_UTF8/2007_utf8/sports/1070217_sports_story_7404388.utf8\n",
            "TELEGRAPH_UTF8/2007_utf8/sports/1070208_sports_story_7365383.utf8\n",
            "TELEGRAPH_UTF8/2007_utf8/sports/1070409_sports_story_7623935.utf8\n",
            "TELEGRAPH_UTF8/2007_utf8/sports/1070410_sports_story_7628570.utf8\n",
            "TELEGRAPH_UTF8/2007_utf8/sports/1070903_sports_story_8269275.utf8\n",
            "TELEGRAPH_UTF8/2007_utf8/sports/1070406_sports_story_7613100.utf8\n",
            "TELEGRAPH_UTF8/2007_utf8/sports/1070830_sports_story_8254409.utf8\n",
            "TELEGRAPH_UTF8/2007_utf8/sports/1070108_sports_story_7233435.utf8\n",
            "TELEGRAPH_UTF8/2007_utf8/sports/1070106_sports_story_7227393.utf8\n",
            "TELEGRAPH_UTF8/2007_utf8/sports/1070129_sports_story_7320208.utf8\n",
            "TELEGRAPH_UTF8/2007_utf8/sports/1070706_sports_story_8023136.utf8\n",
            "TELEGRAPH_UTF8/2007_utf8/sports/1070906_sports_story_8282440.utf8\n",
            "TELEGRAPH_UTF8/2007_utf8/sports/1070829_sports_story_8249628.utf8\n",
            "TELEGRAPH_UTF8/2007_utf8/sports/1070116_sports_story_7268015.utf8\n",
            "TELEGRAPH_UTF8/2007_utf8/sports/1070518_sports_story_7794911.utf8\n",
            "TELEGRAPH_UTF8/2007_utf8/sports/1070525_sports_story_7826697.utf8\n",
            "TELEGRAPH_UTF8/2007_utf8/sports/1070308_sports_story_7487568.utf8\n",
            "TELEGRAPH_UTF8/2007_utf8/sports/1070212_sports_story_7381130.utf8\n",
            "TELEGRAPH_UTF8/2007_utf8/sports/1070814_sports_story_8190607.utf8\n",
            "TELEGRAPH_UTF8/2007_utf8/sports/1070227_sports_story_7446316.utf8\n",
            "TELEGRAPH_UTF8/2007_utf8/sports/1070208_sports_story_7365381.utf8\n",
            "TELEGRAPH_UTF8/2007_utf8/sports/1070505_sports_story_7736970.utf8\n",
            "TELEGRAPH_UTF8/2007_utf8/sports/1070302_sports_story_7460028.utf8\n",
            "TELEGRAPH_UTF8/2007_utf8/sports/1070916_sports_story_8322983.utf8\n",
            "TELEGRAPH_UTF8/2007_utf8/sports/1070704_sports_story_8013244.utf8\n",
            "TELEGRAPH_UTF8/2007_utf8/sports/1070711_sports_story_8043668.utf8\n",
            "TELEGRAPH_UTF8/2007_utf8/sports/1070326_sports_story_7566129.utf8\n",
            "TELEGRAPH_UTF8/2007_utf8/sports/1070511_sports_story_7762456.utf8\n",
            "TELEGRAPH_UTF8/2007_utf8/sports/1070524_sports_story_7823124.utf8\n",
            "TELEGRAPH_UTF8/2007_utf8/sports/1070314_sports_story_7514102.utf8\n",
            "TELEGRAPH_UTF8/2007_utf8/sports/1070112_sports_story_7251702.utf8\n",
            "TELEGRAPH_UTF8/2007_utf8/sports/1070301_sports_story_7456008.utf8\n",
            "TELEGRAPH_UTF8/2007_utf8/sports/1070320_sports_story_7541381.utf8\n",
            "TELEGRAPH_UTF8/2007_utf8/sports/1070327_sports_story_7570546.utf8\n",
            "TELEGRAPH_UTF8/2007_utf8/sports/1070614_sports_story_7920814.utf8\n",
            "TELEGRAPH_UTF8/2007_utf8/sports/1070501_sports_story_7721281.utf8\n",
            "TELEGRAPH_UTF8/2007_utf8/sports/1070829_sports_story_8250003.utf8\n",
            "TELEGRAPH_UTF8/2007_utf8/sports/1070909_sports_story_8294689.utf8\n",
            "TELEGRAPH_UTF8/2007_utf8/sports/1070317_sports_story_7529133.utf8\n",
            "TELEGRAPH_UTF8/2007_utf8/sports/1070226_sports_story_7441512.utf8\n",
            "TELEGRAPH_UTF8/2007_utf8/sports/1070719_sports_story_8075756.utf8\n",
            "TELEGRAPH_UTF8/2007_utf8/sports/1070526_sports_story_7832221.utf8\n",
            "TELEGRAPH_UTF8/2007_utf8/sports/1070412_sports_story_7638004.utf8\n",
            "TELEGRAPH_UTF8/2007_utf8/sports/1070717_sports_story_8069121.utf8\n",
            "TELEGRAPH_UTF8/2007_utf8/sports/1070318_sports_story_7533419.utf8\n",
            "TELEGRAPH_UTF8/2007_utf8/sports/1070928_sports_story_8370757.utf8\n",
            "TELEGRAPH_UTF8/2007_utf8/sports/1070806_sports_index.utf8\n",
            "TELEGRAPH_UTF8/2007_utf8/sports/1070907_sports_story_8287004.utf8\n",
            "TELEGRAPH_UTF8/2007_utf8/sports/1070719_sports_story_8078491.utf8\n",
            "TELEGRAPH_UTF8/2007_utf8/sports/1070317_sports_story_7529142.utf8\n",
            "TELEGRAPH_UTF8/2007_utf8/sports/1070713_sports_story_8053636.utf8\n",
            "TELEGRAPH_UTF8/2007_utf8/sports/1070421_sports_story_7676512.utf8\n",
            "TELEGRAPH_UTF8/2007_utf8/sports/1070310_sports_story_7497094.utf8\n",
            "TELEGRAPH_UTF8/2007_utf8/sports/1070424_sports_story_7689147.utf8\n",
            "TELEGRAPH_UTF8/2007_utf8/sports/1070507_sports_story_7743726.utf8\n",
            "TELEGRAPH_UTF8/2007_utf8/sports/1070828_sports_story_8245485.utf8\n",
            "TELEGRAPH_UTF8/2007_utf8/sports/1070105_sports_story_7222938.utf8\n",
            "TELEGRAPH_UTF8/2007_utf8/sports/1070925_sports_story_8355777.utf8\n",
            "TELEGRAPH_UTF8/2007_utf8/sports/1070713_sports_story_8052333.utf8\n",
            "TELEGRAPH_UTF8/2007_utf8/sports/1070508_sports_story_7748200.utf8\n",
            "TELEGRAPH_UTF8/2007_utf8/sports/1070706_sports_story_8023141.utf8\n",
            "TELEGRAPH_UTF8/2007_utf8/sports/1070209_sports_story_7369564.utf8\n",
            "TELEGRAPH_UTF8/2007_utf8/sports/1070903_sports_story_8269300.utf8\n",
            "TELEGRAPH_UTF8/2007_utf8/sports/1070812_sports_story_8182807.utf8\n",
            "TELEGRAPH_UTF8/2007_utf8/sports/1070805_sports_story_8151833.utf8\n",
            "TELEGRAPH_UTF8/2007_utf8/sports/1070512_sports_story_7767059.utf8\n",
            "TELEGRAPH_UTF8/2007_utf8/sports/1070928_sports_story_8370917.utf8\n",
            "TELEGRAPH_UTF8/2007_utf8/sports/1070112_sports_story_7252235.utf8\n",
            "TELEGRAPH_UTF8/2007_utf8/sports/1070723_sports_story_8094513.utf8\n",
            "TELEGRAPH_UTF8/2007_utf8/sports/1070805_sports_story_8151818.utf8\n",
            "TELEGRAPH_UTF8/2007_utf8/sports/1070902_sports_story_8265984.utf8\n",
            "TELEGRAPH_UTF8/2007_utf8/sports/1070413_sports_story_7642074.utf8\n",
            "TELEGRAPH_UTF8/2007_utf8/sports/1070401_sports_story_7592518.utf8\n",
            "TELEGRAPH_UTF8/2007_utf8/sports/1070917_sports_story_8325795.utf8\n",
            "TELEGRAPH_UTF8/2007_utf8/sports/1070809_sports_story_8169657.utf8\n",
            "TELEGRAPH_UTF8/2007_utf8/sports/1070117_sports_story_7272598.utf8\n",
            "TELEGRAPH_UTF8/2007_utf8/sports/1070429_sports_story_7712906.utf8\n",
            "TELEGRAPH_UTF8/2007_utf8/sports/1070412_sports_story_7637970.utf8\n",
            "TELEGRAPH_UTF8/2007_utf8/sports/1070618_sports_story_7938035.utf8\n",
            "TELEGRAPH_UTF8/2007_utf8/sports/1070421_sports_story_7676911.utf8\n",
            "TELEGRAPH_UTF8/2007_utf8/sports/1070412_sports_story_7638007.utf8\n",
            "TELEGRAPH_UTF8/2007_utf8/sports/1070515_sports_story_7778935.utf8\n",
            "TELEGRAPH_UTF8/2007_utf8/sports/1070725_sports_story_8103114.utf8\n",
            "TELEGRAPH_UTF8/2007_utf8/sports/1070615_sports_index.utf8\n",
            "TELEGRAPH_UTF8/2007_utf8/sports/1070811_sports_story_8179076.utf8\n",
            "TELEGRAPH_UTF8/2007_utf8/sports/1070928_sports_story_8370795.utf8\n"
          ],
          "name": "stdout"
        }
      ]
    },
    {
      "cell_type": "code",
      "metadata": {
        "id": "SCCZkjfCjuYQ"
      },
      "source": [
        "!gzip -d FIRE_Dataset_EN_2010/en.qrels.76-125.2010.txt.gz"
      ],
      "execution_count": null,
      "outputs": []
    },
    {
      "cell_type": "markdown",
      "metadata": {
        "id": "URBHhbkCCsGN"
      },
      "source": [
        "# Importing necessary packages and libraries"
      ]
    },
    {
      "cell_type": "code",
      "metadata": {
        "id": "9UNt0gtKkvRW"
      },
      "source": [
        "import os\n",
        "import glob\n",
        "from bs4 import BeautifulSoup\n",
        "import lxml.html\n",
        "import re\n",
        "import nltk\n",
        "from nltk.corpus import stopwords\n",
        "from nltk.tokenize import word_tokenize\n",
        "from nltk.corpus import stopwords\n",
        "from nltk.stem.porter import PorterStemmer\n",
        "from nltk.stem import WordNetLemmatizer \n",
        "import bisect\n",
        "import math\n",
        "from sklearn.feature_extraction.text import TfidfVectorizer\n",
        "import scipy"
      ],
      "execution_count": null,
      "outputs": []
    },
    {
      "cell_type": "markdown",
      "metadata": {
        "id": "95xqxyP2CwWd"
      },
      "source": [
        "# Downloading the required NLTK packages"
      ]
    },
    {
      "cell_type": "code",
      "metadata": {
        "colab": {
          "base_uri": "https://localhost:8080/"
        },
        "id": "lvWe4685ltNp",
        "outputId": "6bd6a244-38df-43aa-ab9e-799f8402ab4b"
      },
      "source": [
        "nltk.download('punkt')\n",
        "nltk.download('stopwords')\n",
        "nltk.download('wordnet')\n",
        "nltk.download('averaged_perceptron_tagger')"
      ],
      "execution_count": null,
      "outputs": [
        {
          "output_type": "stream",
          "text": [
            "[nltk_data] Downloading package punkt to /home/akarofl/nltk_data...\n",
            "[nltk_data]   Package punkt is already up-to-date!\n",
            "[nltk_data] Downloading package stopwords to\n",
            "[nltk_data]     /home/akarofl/nltk_data...\n",
            "[nltk_data]   Package stopwords is already up-to-date!\n",
            "[nltk_data] Downloading package wordnet to /home/akarofl/nltk_data...\n",
            "[nltk_data]   Package wordnet is already up-to-date!\n",
            "[nltk_data] Downloading package averaged_perceptron_tagger to\n",
            "[nltk_data]     /home/akarofl/nltk_data...\n",
            "[nltk_data]   Package averaged_perceptron_tagger is already up-to-\n",
            "[nltk_data]       date!\n"
          ],
          "name": "stderr"
        },
        {
          "output_type": "execute_result",
          "data": {
            "text/plain": [
              "True"
            ]
          },
          "metadata": {
            "tags": []
          },
          "execution_count": 6
        }
      ]
    },
    {
      "cell_type": "markdown",
      "metadata": {
        "id": "9pZtiyglC1bt"
      },
      "source": [
        "# Extracting data from corpus using BeautifulSoup and performing pre-processing steps"
      ]
    },
    {
      "cell_type": "code",
      "metadata": {
        "id": "iSNNTLyJlwJr",
        "outputId": "cbb28836-6b60-432b-b0f4-85d4c57bdeb1"
      },
      "source": [
        "files = [] # List is storing file name and file content. File content is a list of words.\n",
        "punc = '''!()-[]{};:'\"\\,<>./?@#$%^&*_~'''\n",
        "porter = PorterStemmer()\n",
        "lemmatizer = WordNetLemmatizer() \n",
        "postag = nltk.corpus.wordnet\n",
        "stop_words = set(stopwords.words('english'))\n",
        "\n",
        "# Returns Part of Speech for lemmatization\n",
        "def wordnet_pos(word):\n",
        "    t = nltk.pos_tag([word])[0][1][0].lower()\n",
        "    t_pos = {\"j\": postag.ADJ, \"n\": postag.NOUN, \"v\": postag.VERB, \"r\": postag.ADV}\n",
        "    return t_pos.get(t, postag.NOUN)\n",
        "i = 0\n",
        "for subdir, dirs, filenames in os.walk('TELEGRAPH_UTF8/'):\n",
        "    print('Progress: ',i)\n",
        "    for file_obj in filenames:\n",
        "      i = i+1\n",
        "      filename = os.path.join(subdir, file_obj)\n",
        "      # Extracting data and saving it to raw_text\n",
        "      soup = BeautifulSoup(open(filename, \"r\").read())\n",
        "      raw_text = soup.find('text').get_text()\n",
        "      for sym in raw_text : \n",
        "        # Removing punctuation\n",
        "        if sym in punc : \n",
        "          raw_text = raw_text.replace(sym, \"\")\n",
        "\n",
        "      # Removing non-alphabetic text and Converting text to lower-case\n",
        "      words = [word.lower() for word in raw_text.split() if word.isalpha()]\n",
        "      # Removing stopwords\n",
        "      words = [w for w in words if not w in stop_words]\n",
        "      # Performing lemmatization\n",
        "      lemmatized = [lemmatizer.lemmatize(word) for word in words]\n",
        "      temp_file = []\n",
        "      # Storing filename to list\n",
        "      temp_file.append(str(filename))\n",
        "      # Storing file data to list\n",
        "      temp_file.append(lemmatized)\n",
        "      # Appending data to 'files' list\n",
        "      files.append(temp_file)\n",
        "print(\"Total Documents: \", len(files))"
      ],
      "execution_count": null,
      "outputs": [
        {
          "output_type": "stream",
          "text": [
            "Progress:  0\n",
            "Progress:  0\n",
            "Progress:  0\n",
            "Progress:  675\n",
            "Progress:  8290\n",
            "Progress:  10565\n",
            "Progress:  12283\n",
            "Progress:  15911\n",
            "Progress:  18148\n",
            "Progress:  20103\n",
            "Progress:  24403\n",
            "Progress:  30447\n",
            "Progress:  30447\n",
            "Progress:  30480\n",
            "Progress:  33434\n",
            "Progress:  33462\n",
            "Progress:  33513\n",
            "Progress:  34176\n",
            "Progress:  35090\n",
            "Progress:  35174\n",
            "Progress:  37289\n",
            "Progress:  37415\n",
            "Progress:  38579\n",
            "Progress:  39515\n",
            "Progress:  39534\n",
            "Progress:  39585\n",
            "Progress:  41800\n",
            "Progress:  41857\n",
            "Progress:  44791\n",
            "Progress:  44791\n",
            "Progress:  53896\n",
            "Progress:  55889\n",
            "Progress:  58543\n",
            "Progress:  64793\n",
            "Progress:  68121\n",
            "Progress:  70923\n",
            "Progress:  77355\n",
            "Progress:  85890\n",
            "Progress:  85890\n",
            "Progress:  95433\n",
            "Progress:  97786\n",
            "Progress:  99917\n",
            "Progress:  105419\n",
            "Progress:  108496\n",
            "Progress:  111250\n",
            "Progress:  117397\n",
            "Total Documents:  125586\n"
          ],
          "name": "stdout"
        }
      ]
    },
    {
      "cell_type": "markdown",
      "metadata": {
        "id": "axl9U-xFC8gI"
      },
      "source": [
        "# Extracting terms and calculating IDF for these terms."
      ]
    },
    {
      "cell_type": "code",
      "metadata": {
        "colab": {
          "base_uri": "https://localhost:8080/"
        },
        "id": "j5Pn7n-XmMBz",
        "outputId": "fae99edc-b970-46c6-e820-9e272debc6ea"
      },
      "source": [
        "# Storing unique words in a set\n",
        "terms = []\n",
        "idf = []\n",
        "\n",
        "print(\"Collecting terms...\")\n",
        "# Adding words to terms set\n",
        "i = 0\n",
        "for curr_file in files : \n",
        "  for word in curr_file[1]:\n",
        "    terms.append(word)\n",
        "  i = i + 1\n",
        "  if(i%10000==0): print(\"Progress: \", i, \" / \", len(files), \"   Total Words: \", len(terms))\n",
        "\n",
        "# Converting set to sorted list\n",
        "term_index = sorted(list(set(terms)))\n",
        "\n",
        "print(\"Terms Collected. Total term count: \", len(term_index))\n",
        "print(\"\")\n",
        "\n",
        "\n",
        "print(\"Calculating Document Frequency...\")\n",
        "\n",
        "# Initializing document frequency (df) matrix\n",
        "df = [0 for x in range(len(term_index))]\n",
        "i = 0\n",
        "for curr_file in files : \n",
        "  temp_set = set(curr_file[1])\n",
        "  for term in temp_set :\n",
        "    # Searching for the index of term in term_index list using binary search (bisect)\n",
        "    # Incrementing document frequency value for returned index in df list\n",
        "    df[bisect.bisect_left(term_index, term)] = df[bisect.bisect_left(term_index, term)] + 1\n",
        "  i = i + 1\n",
        "  if(i%10000==0): print(\"Progress: \", i, \" / \", len(files))\n",
        "    \n",
        "# Calculating IDF using df values\n",
        "for doc in df : \n",
        "  idf.append(math.log10(len(files)/doc))\n",
        "\n",
        "del terms\n",
        "\n",
        "print(\"idf Calculated.\")"
      ],
      "execution_count": null,
      "outputs": [
        {
          "output_type": "stream",
          "text": [
            "Collecting terms...\n",
            "Progress:  10000  /  125586    Total Words:  1897712\n",
            "Progress:  20000  /  125586    Total Words:  4102081\n",
            "Progress:  30000  /  125586    Total Words:  7227570\n",
            "Progress:  40000  /  125586    Total Words:  9493999\n",
            "Progress:  50000  /  125586    Total Words:  11630794\n",
            "Progress:  60000  /  125586    Total Words:  13592928\n",
            "Progress:  70000  /  125586    Total Words:  15913673\n",
            "Progress:  80000  /  125586    Total Words:  18341562\n",
            "Progress:  90000  /  125586    Total Words:  20621177\n",
            "Progress:  100000  /  125586    Total Words:  22480027\n",
            "Progress:  110000  /  125586    Total Words:  24737952\n",
            "Progress:  120000  /  125586    Total Words:  27380559\n",
            "Terms Collected. Total term count:  294148\n",
            "\n",
            "Calculating Document Frequency...\n",
            "Progress:  10000  /  125586\n",
            "Progress:  20000  /  125586\n",
            "Progress:  30000  /  125586\n",
            "Progress:  40000  /  125586\n",
            "Progress:  50000  /  125586\n",
            "Progress:  60000  /  125586\n",
            "Progress:  70000  /  125586\n",
            "Progress:  80000  /  125586\n",
            "Progress:  90000  /  125586\n",
            "Progress:  100000  /  125586\n",
            "Progress:  110000  /  125586\n",
            "Progress:  120000  /  125586\n",
            "idf Calculated.\n"
          ],
          "name": "stdout"
        }
      ]
    },
    {
      "cell_type": "markdown",
      "metadata": {
        "id": "QM9CI6DeDirj"
      },
      "source": [
        "# Calculating Sparse TF-IDF matrix for documents"
      ]
    },
    {
      "cell_type": "code",
      "metadata": {
        "tags": [],
        "id": "8mpuD9AHCilE",
        "outputId": "b9dd1083-747c-46f9-859d-f3dad238534d"
      },
      "source": [
        "sparse_tf_idf = []\n",
        "\n",
        "j = 0\n",
        "# Calculating TF-IDF vectors for each file\n",
        "for doc in files :\n",
        "  tempTF = {}\n",
        "  # Incrementing count for each term\n",
        "  for term in doc[1] : \n",
        "    index = bisect.bisect_left(term_index, term)\n",
        "    if index in tempTF.keys():\n",
        "        tempTF[index] += 1\n",
        "    else:\n",
        "        tempTF[index] = 1\n",
        "\n",
        "  stf = []\n",
        "\n",
        "  for i in tempTF:\n",
        "        stf.append([i, tempTF[i]*idf[i]])     \n",
        "\n",
        "  sparse_tf_idf.append(stf)\n",
        "\n",
        "  j = j + 1\n",
        "  if(j%10000==0): print(\"Progress: \", j, \" / \", len(files))\n",
        "\n",
        "print(\"tf-idf calculated for documents.\")"
      ],
      "execution_count": null,
      "outputs": [
        {
          "output_type": "stream",
          "text": [
            "Progress:  10000  /  125586\n",
            "Progress:  20000  /  125586\n",
            "Progress:  30000  /  125586\n",
            "Progress:  40000  /  125586\n",
            "Progress:  50000  /  125586\n",
            "Progress:  60000  /  125586\n",
            "Progress:  70000  /  125586\n",
            "Progress:  80000  /  125586\n",
            "Progress:  90000  /  125586\n",
            "Progress:  100000  /  125586\n",
            "Progress:  110000  /  125586\n",
            "Progress:  120000  /  125586\n",
            "tf-idf calculated for documents.\n"
          ],
          "name": "stdout"
        }
      ]
    },
    {
      "cell_type": "markdown",
      "metadata": {
        "id": "_oxx13iZDlxb"
      },
      "source": [
        "# Calculating Tf-IDF matrix for Queries"
      ]
    },
    {
      "cell_type": "code",
      "metadata": {
        "id": "pt_yJKm5CilF",
        "outputId": "b8861b83-2db1-4a4e-cd89-92245d9c1668"
      },
      "source": [
        "import xml.etree.ElementTree as ET\n",
        "queryPath = \"FIRE_Dataset_EN_2010/en.topics.76-125.2010.txt\"\n",
        "tree = ET.parse(queryPath)\n",
        "root = tree.getroot()\n",
        "\n",
        "queries = []\n",
        "\n",
        "#Collecting Queries\n",
        "for records in root.findall('top'):\n",
        "    summary = records.find('num').text\n",
        "    full = records.find('title').text\n",
        "\n",
        "    words = [word.lower() for word in full.split() if word.isalpha()]\n",
        "    # Removing stopwords\n",
        "    words = [w for w in words if not w in stop_words]\n",
        "    # Performing lemmatization\n",
        "    lemmatized = [lemmatizer.lemmatize(word) for word in words]\n",
        "\n",
        "    queries.append([summary, lemmatized])\n",
        "\n",
        "print(\"Queries Collected\")"
      ],
      "execution_count": null,
      "outputs": [
        {
          "output_type": "stream",
          "text": [
            "Queries Collected\n"
          ],
          "name": "stdout"
        }
      ]
    },
    {
      "cell_type": "markdown",
      "metadata": {
        "id": "izDQTauHDuU9"
      },
      "source": [
        "# Creating vectors for query terms"
      ]
    },
    {
      "cell_type": "code",
      "metadata": {
        "id": "K_IAUMJNCilF",
        "outputId": "a3175550-05c8-4794-c5b9-fd026a9b6028"
      },
      "source": [
        "print(\"Creating vectors for query terms...\")\n",
        "\n",
        "queries_tf_idf = []\n",
        "\n",
        "for i in range(len(queries)):\n",
        "    tempTF = [0] * len(term_index)\n",
        "    word_tokens = queries[i][1]\n",
        "       \n",
        "    for w in word_tokens: \n",
        "        if w in term_index:\n",
        "            tempTF[bisect.bisect_left(term_index, w)] += 1\n",
        "\n",
        "    tempT = []\n",
        "\n",
        "    for j in range(len(tempTF)):\n",
        "        if(tempTF[j] > 0):\n",
        "            tempT.append([j, tempTF[j]*idf[j]])\n",
        "\n",
        "    queries_tf_idf.append(tempT)\n",
        "\n",
        "print(\"Vectors generated for query terms.\")"
      ],
      "execution_count": null,
      "outputs": [
        {
          "output_type": "stream",
          "text": [
            "Creating vectors for query terms...\n",
            "Vectors generated for query terms.\n"
          ],
          "name": "stdout"
        }
      ]
    },
    {
      "cell_type": "markdown",
      "metadata": {
        "id": "A_CmrZggDzjp"
      },
      "source": [
        "# Calculating magnitude for each vector in query and document corpus\n"
      ]
    },
    {
      "cell_type": "code",
      "metadata": {
        "id": "TQaCemHuCilG"
      },
      "source": [
        "qMag = []\n",
        "dMag = []\n",
        "\n",
        "for i in range(len(queries_tf_idf)):\n",
        "    sum = 0\n",
        "    for k in range(len(queries_tf_idf[i])):\n",
        "        sum = sum + (queries_tf_idf[i][k][1] * queries_tf_idf[i][k][1] )\n",
        "    qMag.append(math.sqrt(sum))\n",
        "\n",
        "for i in range(len(sparse_tf_idf)):\n",
        "    sum = 0\n",
        "    for k in range(len(sparse_tf_idf[i])):\n",
        "        sum = sum + (sparse_tf_idf[i][k][1] * sparse_tf_idf[i][k][1] )\n",
        "    dMag.append(math.sqrt(sum))\n"
      ],
      "execution_count": null,
      "outputs": []
    },
    {
      "cell_type": "markdown",
      "metadata": {
        "id": "mOekP41cEJCc"
      },
      "source": [
        "# Calculating Rankings of Docs for each query"
      ]
    },
    {
      "cell_type": "code",
      "metadata": {
        "id": "ISiG0QqBCilG",
        "outputId": "15f7562b-132f-4e79-d645-eb320bb2d83b"
      },
      "source": [
        "print(\"Calculating Rankings of Docs for each query...\")\n",
        "\n",
        "r1 = []\n",
        "\n",
        "for i in range(len(queries_tf_idf)):\n",
        "    rTemp = []\n",
        "    for j in range(len(sparse_tf_idf)):\n",
        "        tSum = 0\n",
        "        for k in range(len(queries_tf_idf[i])):\n",
        "            for l in range(len(sparse_tf_idf[j])):\n",
        "                if queries_tf_idf[i][k][0] == sparse_tf_idf[j][l][0]:\n",
        "                    tSum += (queries_tf_idf[i][k][1] * sparse_tf_idf[j][l][1])\n",
        "        if(tSum > 0):\n",
        "            tSum = tSum / (qMag[i] * dMag[j])\n",
        "            rTemp.append([files[j][0], tSum])\n",
        "    rTemp.sort(key = lambda rTemp: rTemp[1], reverse=True) \n",
        "    r1.append(rTemp)\n",
        "\n",
        "    print(\"Progress: \", i+1, \" / \", len(queries_tf_idf))\n",
        "\n",
        "print(\"Ranking Complete.\")"
      ],
      "execution_count": null,
      "outputs": [
        {
          "output_type": "stream",
          "text": [
            "Calculating Rankings of Docs for each query...\n",
            "Progress:  1  /  50\n",
            "Progress:  2  /  50\n",
            "Progress:  3  /  50\n",
            "Progress:  4  /  50\n",
            "Progress:  5  /  50\n",
            "Progress:  6  /  50\n",
            "Progress:  7  /  50\n",
            "Progress:  8  /  50\n",
            "Progress:  9  /  50\n",
            "Progress:  10  /  50\n",
            "Progress:  11  /  50\n",
            "Progress:  12  /  50\n",
            "Progress:  13  /  50\n",
            "Progress:  14  /  50\n",
            "Progress:  15  /  50\n",
            "Progress:  16  /  50\n",
            "Progress:  17  /  50\n",
            "Progress:  18  /  50\n",
            "Progress:  19  /  50\n",
            "Progress:  20  /  50\n",
            "Progress:  21  /  50\n",
            "Progress:  22  /  50\n",
            "Progress:  23  /  50\n",
            "Progress:  24  /  50\n",
            "Progress:  25  /  50\n",
            "Progress:  26  /  50\n",
            "Progress:  27  /  50\n",
            "Progress:  28  /  50\n",
            "Progress:  29  /  50\n",
            "Progress:  30  /  50\n",
            "Progress:  31  /  50\n",
            "Progress:  32  /  50\n",
            "Progress:  33  /  50\n",
            "Progress:  34  /  50\n",
            "Progress:  35  /  50\n",
            "Progress:  36  /  50\n",
            "Progress:  37  /  50\n",
            "Progress:  38  /  50\n",
            "Progress:  39  /  50\n",
            "Progress:  40  /  50\n",
            "Progress:  41  /  50\n",
            "Progress:  42  /  50\n",
            "Progress:  43  /  50\n",
            "Progress:  44  /  50\n",
            "Progress:  45  /  50\n",
            "Progress:  46  /  50\n",
            "Progress:  47  /  50\n",
            "Progress:  48  /  50\n",
            "Progress:  49  /  50\n",
            "Progress:  50  /  50\n",
            "Ranking Complete.\n"
          ],
          "name": "stdout"
        }
      ]
    },
    {
      "cell_type": "markdown",
      "metadata": {
        "id": "7WBzIfy1EUWx"
      },
      "source": [
        "# Extracting Data from qrels file"
      ]
    },
    {
      "cell_type": "code",
      "metadata": {
        "id": "9K4firjqCilH"
      },
      "source": [
        "file1 = open('FIRE_Dataset_EN_2010/en.qrels.76-125.2010.txt', 'r')\n",
        "Lines = file1.readlines()\n",
        "\n",
        "refDoc = []\n",
        "for line in Lines:\n",
        "    refDoc.append(line.split())"
      ],
      "execution_count": null,
      "outputs": []
    },
    {
      "cell_type": "code",
      "metadata": {
        "id": "dDLKK0nQCilH",
        "outputId": "b9233cc6-7b3e-42d6-d754-bbe470f8e3f1"
      },
      "source": [
        "print(refDoc[0])\n",
        "print(r1[0][0])\n",
        "print(queries[0])"
      ],
      "execution_count": null,
      "outputs": [
        {
          "output_type": "stream",
          "text": [
            "['76', 'Q0', '1040901_nation_story_3702283.utf8', '0']\n",
            "['TELEGRAPH_UTF8/2007_utf8/nation/1070602_nation_story_7865940.utf8', 0.29849125497734824]\n",
            "['76', ['clash', 'gurjars', 'meenas']]\n"
          ],
          "name": "stdout"
        }
      ]
    },
    {
      "cell_type": "markdown",
      "metadata": {
        "id": "QU_A_csjEdEg"
      },
      "source": [
        "# Calculating MAP Score"
      ]
    },
    {
      "cell_type": "code",
      "metadata": {
        "id": "XcnjOm8ACilI"
      },
      "source": [
        "#List containing AP10 for each query\n",
        "AP10 = []\n",
        "\n",
        "for i in range(len(r1)):\n",
        "    cAP = 0\n",
        "    for j in range(min(10, len(r1[i]))):\n",
        "        docName = r1[i][j][0].split('/')[3]\n",
        "        queryNo = queries[i][0]\n",
        "\n",
        "        #Search for this doc in reference file\n",
        "        for k in range(len(refDoc)):\n",
        "            if(refDoc[k][0] == queryNo and refDoc[k][2] == docName and refDoc[k][3] == '1'):\n",
        "                cAP = cAP + 1\n",
        "    AP10.append(cAP/10.0)\n",
        "\n",
        "MAP10 = 0\n",
        "for ap in AP10:\n",
        "    MAP10 += ap\n",
        "\n",
        "MAP10 /= 50"
      ],
      "execution_count": null,
      "outputs": []
    },
    {
      "cell_type": "code",
      "metadata": {
        "id": "8waHNWpVCilI",
        "outputId": "3d4b6c6a-e9a7-4e98-912c-0bcd9aa06772"
      },
      "source": [
        "print(MAP10)"
      ],
      "execution_count": null,
      "outputs": [
        {
          "output_type": "stream",
          "text": [
            "0.21999999999999997\n"
          ],
          "name": "stdout"
        }
      ]
    },
    {
      "cell_type": "markdown",
      "metadata": {
        "id": "gUKnWxbvEkcx"
      },
      "source": [
        "# Printing top 10 relevant docsbased on cosine similarity for each query"
      ]
    },
    {
      "cell_type": "code",
      "metadata": {
        "tags": [
          "outputPrepend"
        ],
        "id": "se3OVRmSCilJ",
        "outputId": "d98bfd42-349b-4be5-fdaf-47e67ebc442d"
      },
      "source": [
        "for i in range(len(r1)):\n",
        "    print(\"Relevant Docs for query \", queries[i][0])\n",
        "    for j in range(min(10, len(r1[i]))):\n",
        "        print(\"    \", j+1, \". \", r1[i][j])"
      ],
      "execution_count": null,
      "outputs": [
        {
          "output_type": "stream",
          "text": [
            " 0.3414833275011502]\n",
            "     10 .  ['TELEGRAPH_UTF8/2005_utf8/bengal/1050923_bengal_story_5274462.utf8', 0.3364026288903597]\n",
            "Relevant Docs for query  107\n",
            "     1 .  ['TELEGRAPH_UTF8/2007_utf8/nation/1070409_nation_story_7622846.utf8', 0.2733284865904472]\n",
            "     2 .  ['TELEGRAPH_UTF8/2007_utf8/nation/1070509_nation_story_7752995.utf8', 0.2699271534944434]\n",
            "     3 .  ['TELEGRAPH_UTF8/2005_utf8/sports/1051223_sports_story_5635956.utf8', 0.26162359828287074]\n",
            "     4 .  ['TELEGRAPH_UTF8/2007_utf8/nation/1070413_nation_story_7642117.utf8', 0.2233230056881931]\n",
            "     5 .  ['TELEGRAPH_UTF8/2007_utf8/nation/1070406_nation_story_7613759.utf8', 0.2162319806066639]\n",
            "     6 .  ['TELEGRAPH_UTF8/2007_utf8/nation/1070412_nation_story_7637981.utf8', 0.21167477827568731]\n",
            "     7 .  ['TELEGRAPH_UTF8/2006_utf8/nation/1060915_nation_story_6747065.utf8', 0.19862644112947464]\n",
            "     8 .  ['TELEGRAPH_UTF8/2007_utf8/nation/1070408_nation_story_7620581.utf8', 0.1975443968284636]\n",
            "     9 .  ['TELEGRAPH_UTF8/2006_utf8/bengal/1060822_bengal_story_6641427.utf8', 0.18917275106558384]\n",
            "     10 .  ['TELEGRAPH_UTF8/2007_utf8/nation/1070407_nation_story_7617227.utf8', 0.18429300389789283]\n",
            "Relevant Docs for query  108\n",
            "     1 .  ['TELEGRAPH_UTF8/2006_utf8/frontpage/1060912_frontpage_story_6733972.utf8', 0.4863004012729625]\n",
            "     2 .  ['TELEGRAPH_UTF8/2005_utf8/nation/1050511_nation_story_4723488.utf8', 0.43243067738234575]\n",
            "     3 .  ['TELEGRAPH_UTF8/2005_utf8/frontpage/1050403_frontpage_story_4566870.utf8', 0.4030408784035029]\n",
            "     4 .  ['TELEGRAPH_UTF8/2005_utf8/nation/1050114_nation_story_4252358.utf8', 0.3553350911142194]\n",
            "     5 .  ['TELEGRAPH_UTF8/2005_utf8/frontpage/1050114_frontpage_story_4252314.utf8', 0.3539158956146304]\n",
            "     6 .  ['TELEGRAPH_UTF8/2005_utf8/sports/1051105_sports_story_5439879.utf8', 0.34645883552031587]\n",
            "     7 .  ['TELEGRAPH_UTF8/2007_utf8/frontpage/1070913_frontpage_story_8310810.utf8', 0.3307757985393809]\n",
            "     8 .  ['TELEGRAPH_UTF8/2007_utf8/business/1070626_business_story_7975168.utf8', 0.3197147856591855]\n",
            "     9 .  ['TELEGRAPH_UTF8/2007_utf8/frontpage/1070204_frontpage_story_7348015.utf8', 0.2943041545853903]\n",
            "     10 .  ['TELEGRAPH_UTF8/2004_utf8/opinion/1041009_opinion_story_3853475.utf8', 0.29398715590575425]\n",
            "Relevant Docs for query  109\n",
            "     1 .  ['TELEGRAPH_UTF8/2006_utf8/nation/1060116_nation_story_5725038.utf8', 0.5473394615061216]\n",
            "     2 .  ['TELEGRAPH_UTF8/2005_utf8/nation/1051129_nation_story_5534465.utf8', 0.5380005492542896]\n",
            "     3 .  ['TELEGRAPH_UTF8/2005_utf8/nation/1050512_nation_story_4729193.utf8', 0.5124436881812807]\n",
            "     4 .  ['TELEGRAPH_UTF8/2005_utf8/nation/1051130_nation_story_5539754.utf8', 0.4834373350981749]\n",
            "     5 .  ['TELEGRAPH_UTF8/2005_utf8/opinion/1051222_opinion_story_5628497.utf8', 0.46286341350095]\n",
            "     6 .  ['TELEGRAPH_UTF8/2005_utf8/opinion/1051203_opinion_story_5554758.utf8', 0.440121558235824]\n",
            "     7 .  ['TELEGRAPH_UTF8/2005_utf8/nation/1051203_nation_story_5554019.utf8', 0.4316662600193075]\n",
            "     8 .  ['TELEGRAPH_UTF8/2005_utf8/opinion/1050710_opinion_story_4969784.utf8', 0.4178710800651532]\n",
            "     9 .  ['TELEGRAPH_UTF8/2005_utf8/nation/1051127_nation_story_5527388.utf8', 0.41288246910284315]\n",
            "     10 .  ['TELEGRAPH_UTF8/2005_utf8/nation/1051216_nation_story_5605895.utf8', 0.4048635819660265]\n",
            "Relevant Docs for query  110\n",
            "     1 .  ['TELEGRAPH_UTF8/2007_utf8/nation/1070206_nation_story_7356221.utf8', 0.43281969879456217]\n",
            "     2 .  ['TELEGRAPH_UTF8/2006_utf8/opinion/1060727_opinion_story_6528037.utf8', 0.35147720522226134]\n",
            "     3 .  ['TELEGRAPH_UTF8/2007_utf8/bengal/1070101_bengal_story_7206923.utf8', 0.32457577342406074]\n",
            "     4 .  ['TELEGRAPH_UTF8/2006_utf8/bengal/1060713_bengal_story_6471922.utf8', 0.3191527392356947]\n",
            "     5 .  ['TELEGRAPH_UTF8/2006_utf8/opinion/1060117_opinion_story_5727294.utf8', 0.3175970258773419]\n",
            "     6 .  ['TELEGRAPH_UTF8/2005_utf8/business/1051227_business_story_5649030.utf8', 0.3142417242113677]\n",
            "     7 .  ['TELEGRAPH_UTF8/2006_utf8/nation/1060620_nation_story_6375357.utf8', 0.31287242519961056]\n",
            "     8 .  ['TELEGRAPH_UTF8/2005_utf8/nation/1050928_nation_story_5293658.utf8', 0.3049922357888204]\n",
            "     9 .  ['TELEGRAPH_UTF8/2005_utf8/business/1050606_business_story_4832404.utf8', 0.29845555772935994]\n",
            "     10 .  ['TELEGRAPH_UTF8/2005_utf8/business/1050614_business_story_4864669.utf8', 0.29692636611548134]\n",
            "Relevant Docs for query  111\n",
            "     1 .  ['TELEGRAPH_UTF8/2006_utf8/nation/1060413_nation_story_6093542.utf8', 0.5904290487640074]\n",
            "     2 .  ['TELEGRAPH_UTF8/2005_utf8/nation/1050331_nation_story_4555290.utf8', 0.5863387607830154]\n",
            "     3 .  ['TELEGRAPH_UTF8/2005_utf8/nation/1050414_nation_story_4612585.utf8', 0.5003394094947234]\n",
            "     4 .  ['TELEGRAPH_UTF8/2005_utf8/nation/1050826_nation_story_5158651.utf8', 0.481790710763442]\n",
            "     5 .  ['TELEGRAPH_UTF8/2005_utf8/frontpage/1050826_frontpage_story_5159316.utf8', 0.4816489401276526]\n",
            "     6 .  ['TELEGRAPH_UTF8/2005_utf8/nation/1050810_nation_story_5096115.utf8', 0.4815679638585899]\n",
            "     7 .  ['TELEGRAPH_UTF8/2005_utf8/nation/1050413_nation_story_4609077.utf8', 0.4627395446587401]\n",
            "     8 .  ['TELEGRAPH_UTF8/2006_utf8/calcutta/1060318_calcutta_story_5974169.utf8', 0.4572588857692826]\n",
            "     9 .  ['TELEGRAPH_UTF8/2005_utf8/nation/1050606_nation_story_4832860.utf8', 0.43920668945044206]\n",
            "     10 .  ['TELEGRAPH_UTF8/2005_utf8/nation/1050817_nation_story_5121698.utf8', 0.4255987514005415]\n",
            "Relevant Docs for query  112\n",
            "     1 .  ['TELEGRAPH_UTF8/2005_utf8/opinion/1050508_opinion_story_4709525.utf8', 0.3069265401696859]\n",
            "     2 .  ['TELEGRAPH_UTF8/2007_utf8/calcutta/1070306_calcutta_story_7453613.utf8', 0.23760238511017623]\n",
            "     3 .  ['TELEGRAPH_UTF8/2005_utf8/nation/1050722_nation_story_5019923.utf8', 0.17331245453333846]\n",
            "     4 .  ['TELEGRAPH_UTF8/2005_utf8/nation/1051120_nation_story_5499248.utf8', 0.1636703550095172]\n",
            "     5 .  ['TELEGRAPH_UTF8/2005_utf8/nation/1051020_nation_story_5376569.utf8', 0.15855814417567257]\n",
            "     6 .  ['TELEGRAPH_UTF8/2005_utf8/nation/1050202_nation_story_4325616.utf8', 0.1479696532063966]\n",
            "     7 .  ['TELEGRAPH_UTF8/2005_utf8/frontpage/1050719_frontpage_story_5008513.utf8', 0.1411062108255172]\n",
            "     8 .  ['TELEGRAPH_UTF8/2005_utf8/nation/1050715_nation_story_4992837.utf8', 0.13878433813482105]\n",
            "     9 .  ['TELEGRAPH_UTF8/2007_utf8/calcutta/1070202_calcutta_tv.utf8', 0.13809142346941283]\n",
            "     10 .  ['TELEGRAPH_UTF8/2007_utf8/calcutta/1070604_calcutta_tv.utf8', 0.13809142346941283]\n",
            "Relevant Docs for query  113\n",
            "     1 .  ['TELEGRAPH_UTF8/2006_utf8/foreign/1061126_foreign_story_7052195.utf8', 0.4001086082897341]\n",
            "     2 .  ['TELEGRAPH_UTF8/2006_utf8/sports/1060712_sports_story_6467492.utf8', 0.32296219020206957]\n",
            "     3 .  ['TELEGRAPH_UTF8/2006_utf8/nation/1060421_nation_story_6126724.utf8', 0.3038386248635437]\n",
            "     4 .  ['TELEGRAPH_UTF8/2007_utf8/sports/1070115_sports_story_7263616.utf8', 0.2896848167571519]\n",
            "     5 .  ['TELEGRAPH_UTF8/2006_utf8/foreign/1061011_foreign_story_6855749.utf8', 0.2887325791155953]\n",
            "     6 .  ['TELEGRAPH_UTF8/2007_utf8/sports/1070215_sports_story_7392930.utf8', 0.27826949985223925]\n",
            "     7 .  ['TELEGRAPH_UTF8/2005_utf8/nation/1050115_nation_story_4257010.utf8', 0.2777039217086108]\n",
            "     8 .  ['TELEGRAPH_UTF8/2006_utf8/business/1060323_business_story_6002783.utf8', 0.26815574151314964]\n",
            "     9 .  ['TELEGRAPH_UTF8/2007_utf8/nation/1070815_nation_story_8195795.utf8', 0.26258142288880904]\n",
            "     10 .  ['TELEGRAPH_UTF8/2006_utf8/sports/1060505_sports_story_6185033.utf8', 0.25925169052133806]\n",
            "Relevant Docs for query  114\n",
            "     1 .  ['TELEGRAPH_UTF8/2006_utf8/nation/1061113_nation_story_6994304.utf8', 0.2922855030747996]\n",
            "     2 .  ['TELEGRAPH_UTF8/2005_utf8/foreign/1050202_foreign_story_4326623.utf8', 0.28973913470520485]\n",
            "     3 .  ['TELEGRAPH_UTF8/2005_utf8/nation/1050428_nation_story_4670543.utf8', 0.26193537387787574]\n",
            "     4 .  ['TELEGRAPH_UTF8/2005_utf8/frontpage/1050630_frontpage_story_4932221.utf8', 0.2593233769297768]\n",
            "     5 .  ['TELEGRAPH_UTF8/2006_utf8/nation/1061114_nation_story_6998796.utf8', 0.25861986536230963]\n",
            "     6 .  ['TELEGRAPH_UTF8/2007_utf8/nation/1070411_nation_story_7632504.utf8', 0.2408433209485993]\n",
            "     7 .  ['TELEGRAPH_UTF8/2006_utf8/nation/1060516_nation_story_6229406.utf8', 0.23947134687871413]\n",
            "     8 .  ['TELEGRAPH_UTF8/2004_utf8/nation/1041006_nation_story_3846231.utf8', 0.22839813396451847]\n",
            "     9 .  ['TELEGRAPH_UTF8/2007_utf8/opinion/1070718_opinion_story_7842005.utf8', 0.2243805862607683]\n",
            "     10 .  ['TELEGRAPH_UTF8/2006_utf8/nation/1060729_nation_story_6540815.utf8', 0.2234694696086676]\n",
            "Relevant Docs for query  115\n",
            "     1 .  ['TELEGRAPH_UTF8/2006_utf8/opinion/1060313_opinion_story_5947770.utf8', 0.3759631143344488]\n",
            "     2 .  ['TELEGRAPH_UTF8/2006_utf8/nation/1060720_nation_story_6498800.utf8', 0.3539095650977701]\n",
            "     3 .  ['TELEGRAPH_UTF8/2006_utf8/nation/1060308_nation_story_5940260.utf8', 0.33435646440361033]\n",
            "     4 .  ['TELEGRAPH_UTF8/2006_utf8/frontpage/1060308_frontpage_story_5941755.utf8', 0.32720676061688564]\n",
            "     5 .  ['TELEGRAPH_UTF8/2006_utf8/nation/1060308_nation_story_5940209.utf8', 0.3205552843914907]\n",
            "     6 .  ['TELEGRAPH_UTF8/2006_utf8/nation/1060316_nation_story_5971873.utf8', 0.3091512349513163]\n",
            "     7 .  ['TELEGRAPH_UTF8/2006_utf8/nation/1060403_nation_story_6049919.utf8', 0.2904925783348909]\n",
            "     8 .  ['TELEGRAPH_UTF8/2005_utf8/nation/1050618_nation_story_4883531.utf8', 0.2840195061137074]\n",
            "     9 .  ['TELEGRAPH_UTF8/2006_utf8/nation/1060311_nation_story_5954673.utf8', 0.2793072641142351]\n",
            "     10 .  ['TELEGRAPH_UTF8/2006_utf8/nation/1060309_nation_story_5945339.utf8', 0.2634674989280024]\n",
            "Relevant Docs for query  116\n",
            "     1 .  ['TELEGRAPH_UTF8/2006_utf8/opinion/1060128_opinion_story_5775492.utf8', 0.642707671239478]\n",
            "     2 .  ['TELEGRAPH_UTF8/2006_utf8/frontpage/1060126_frontpage_story_5768633.utf8', 0.5998313921552277]\n",
            "     3 .  ['TELEGRAPH_UTF8/2006_utf8/nation/1060121_nation_story_5748791.utf8', 0.5533664062538655]\n",
            "     4 .  ['TELEGRAPH_UTF8/2006_utf8/nation/1060421_nation_story_6126861.utf8', 0.5306798065000922]\n",
            "     5 .  ['TELEGRAPH_UTF8/2006_utf8/nation/1060221_nation_story_5873931.utf8', 0.44060568135846656]\n",
            "     6 .  ['TELEGRAPH_UTF8/2006_utf8/nation/1060122_nation_story_5751717.utf8', 0.4295198869893168]\n",
            "     7 .  ['TELEGRAPH_UTF8/2006_utf8/nation/1060218_nation_story_5862838.utf8', 0.3871327291391533]\n",
            "     8 .  ['TELEGRAPH_UTF8/2006_utf8/nation/1060126_nation_story_5768230.utf8', 0.3462891935321885]\n",
            "     9 .  ['TELEGRAPH_UTF8/2006_utf8/nation/1061021_nation_story_6899070.utf8', 0.3348518442265203]\n",
            "     10 .  ['TELEGRAPH_UTF8/2006_utf8/nation/1060123_nation_story_5754114.utf8', 0.318305541825927]\n",
            "Relevant Docs for query  117\n",
            "     1 .  ['TELEGRAPH_UTF8/2006_utf8/business/1061030_business_story_6933937.utf8', 0.42035574098210193]\n",
            "     2 .  ['TELEGRAPH_UTF8/2006_utf8/business/1060105_business_story_5682304.utf8', 0.38918859795432453]\n",
            "     3 .  ['TELEGRAPH_UTF8/2006_utf8/business/1060529_business_story_6283003.utf8', 0.24841971081868447]\n",
            "     4 .  ['TELEGRAPH_UTF8/2007_utf8/bengal/1070327_bengal_story_7571112.utf8', 0.24759245823966652]\n",
            "     5 .  ['TELEGRAPH_UTF8/2007_utf8/business/1070901_business_story_8262158.utf8', 0.20427686356046526]\n",
            "     6 .  ['TELEGRAPH_UTF8/2007_utf8/bengal/1070517_bengal_story_7789741.utf8', 0.20416064782753704]\n",
            "     7 .  ['TELEGRAPH_UTF8/2007_utf8/frontpage/1070519_frontpage_story_7799672.utf8', 0.19783393285602582]\n",
            "     8 .  ['TELEGRAPH_UTF8/2005_utf8/opinion/1050805_opinion_story_5073849.utf8', 0.19633415391041287]\n",
            "     9 .  ['TELEGRAPH_UTF8/2006_utf8/frontpage/1060329_frontpage_story_6028526.utf8', 0.18603798604701682]\n",
            "     10 .  ['TELEGRAPH_UTF8/2005_utf8/business/1050207_business_story_4346731.utf8', 0.1854678955543348]\n",
            "Relevant Docs for query  118\n",
            "     1 .  ['TELEGRAPH_UTF8/2006_utf8/opinion/1060602_opinion_story_6271344.utf8', 0.48721138301256756]\n",
            "     2 .  ['TELEGRAPH_UTF8/2005_utf8/nation/1050706_nation_story_4955838.utf8', 0.3898276426013368]\n",
            "     3 .  ['TELEGRAPH_UTF8/2005_utf8/nation/1050715_nation_story_4991716.utf8', 0.3570733847815971]\n",
            "     4 .  ['TELEGRAPH_UTF8/2005_utf8/opinion/1050711_opinion_story_4957028.utf8', 0.33198934350152337]\n",
            "     5 .  ['TELEGRAPH_UTF8/2005_utf8/nation/1050421_nation_story_4642147.utf8', 0.3268377593008205]\n",
            "     6 .  ['TELEGRAPH_UTF8/2005_utf8/frontpage/1050707_frontpage_story_4959753.utf8', 0.3154693179180702]\n",
            "     7 .  ['TELEGRAPH_UTF8/2005_utf8/nation/1050716_nation_story_4997607.utf8', 0.31391798094621276]\n",
            "     8 .  ['TELEGRAPH_UTF8/2005_utf8/nation/1050708_nation_story_4963246.utf8', 0.3104582723734425]\n",
            "     9 .  ['TELEGRAPH_UTF8/2004_utf8/nation/1041104_nation_story_3961948.utf8', 0.3103581744703973]\n",
            "     10 .  ['TELEGRAPH_UTF8/2005_utf8/nation/1050708_nation_story_4964609.utf8', 0.30836733164612623]\n",
            "Relevant Docs for query  119\n",
            "     1 .  ['TELEGRAPH_UTF8/2005_utf8/opinion/1050718_opinion_story_4994184.utf8', 0.4945850690129782]\n",
            "     2 .  ['TELEGRAPH_UTF8/2007_utf8/opinion/1070713_opinion_story_8037195.utf8', 0.47693998037932334]\n",
            "     3 .  ['TELEGRAPH_UTF8/2005_utf8/calcutta/1050920_calcutta_story_5261594.utf8', 0.4745198668836306]\n",
            "     4 .  ['TELEGRAPH_UTF8/2007_utf8/calcutta/1070628_calcutta_story_7981671.utf8', 0.4600285223249732]\n",
            "     5 .  ['TELEGRAPH_UTF8/2005_utf8/calcutta/1050416_calcutta_story_4610585.utf8', 0.45469511977412486]\n",
            "     6 .  ['TELEGRAPH_UTF8/2004_utf8/nation/1040901_nation_story_3701609.utf8', 0.429389934036743]\n",
            "     7 .  ['TELEGRAPH_UTF8/2005_utf8/calcutta/1050409_calcutta_story_4594850.utf8', 0.41215858108963704]\n",
            "     8 .  ['TELEGRAPH_UTF8/2007_utf8/nation/1070707_nation_story_8027262.utf8', 0.4059836750601766]\n",
            "     9 .  ['TELEGRAPH_UTF8/2004_utf8/frontpage/1041129_frontpage_story_4062752.utf8', 0.38233376200570246]\n",
            "     10 .  ['TELEGRAPH_UTF8/2005_utf8/nation/1050714_nation_story_4988361.utf8', 0.3801368699106732]\n",
            "Relevant Docs for query  120\n",
            "     1 .  ['TELEGRAPH_UTF8/2005_utf8/nation/1050209_nation_story_4356065.utf8', 0.5532386181107338]\n",
            "     2 .  ['TELEGRAPH_UTF8/2005_utf8/nation/1050624_nation_story_4908599.utf8', 0.5218136848995801]\n",
            "     3 .  ['TELEGRAPH_UTF8/2005_utf8/nation/1050106_nation_story_4218937.utf8', 0.5042380215753886]\n",
            "     4 .  ['TELEGRAPH_UTF8/2005_utf8/nation/1050210_nation_story_4359510.utf8', 0.49725048107149405]\n",
            "     5 .  ['TELEGRAPH_UTF8/2007_utf8/nation/1070623_nation_story_7962389.utf8', 0.48724870438590057]\n",
            "     6 .  ['TELEGRAPH_UTF8/2004_utf8/nation/1041226_nation_story_4175544.utf8', 0.44156050256533813]\n",
            "     7 .  ['TELEGRAPH_UTF8/2005_utf8/opinion/1050115_opinion_story_4241122.utf8', 0.40747765509186934]\n",
            "     8 .  ['TELEGRAPH_UTF8/2004_utf8/nation/1041210_nation_story_4109648.utf8', 0.3972593310183564]\n",
            "     9 .  ['TELEGRAPH_UTF8/2005_utf8/nation/1050125_nation_story_4295596.utf8', 0.37118263119381395]\n",
            "     10 .  ['TELEGRAPH_UTF8/2005_utf8/nation/1050312_nation_story_4484256.utf8', 0.3445003879592113]\n",
            "Relevant Docs for query  121\n",
            "     1 .  ['TELEGRAPH_UTF8/2007_utf8/frontpage/1070222_frontpage_index.utf8', 0.5124445592567678]\n",
            "     2 .  ['TELEGRAPH_UTF8/2007_utf8/opinion/1070222_opinion_story_7417136.utf8', 0.43874023472178764]\n",
            "     3 .  ['TELEGRAPH_UTF8/2007_utf8/nation/1070305_nation_story_7471013.utf8', 0.3697851468765364]\n",
            "     4 .  ['TELEGRAPH_UTF8/2007_utf8/frontpage/1070222_frontpage_story_7425408.utf8', 0.34721099505361697]\n",
            "     5 .  ['TELEGRAPH_UTF8/2007_utf8/nation/1070224_nation_story_7434742.utf8', 0.34592539648978204]\n",
            "     6 .  ['TELEGRAPH_UTF8/2007_utf8/nation/1070329_nation_story_7579268.utf8', 0.3361729778676007]\n",
            "     7 .  ['TELEGRAPH_UTF8/2007_utf8/nation/1070220_nation_story_7415425.utf8', 0.33117585214777556]\n",
            "     8 .  ['TELEGRAPH_UTF8/2007_utf8/frontpage/1070221_frontpage_index.utf8', 0.3252886225995258]\n",
            "     9 .  ['TELEGRAPH_UTF8/2007_utf8/opinion/1070228_opinion_story_7444003.utf8', 0.3115630782792152]\n",
            "     10 .  ['TELEGRAPH_UTF8/2007_utf8/opinion/1070220_opinion_story_7412977.utf8', 0.30748796318327354]\n",
            "Relevant Docs for query  122\n",
            "     1 .  ['TELEGRAPH_UTF8/2007_utf8/nation/1070801_nation_story_8133202.utf8', 0.3653306458708608]\n",
            "     2 .  ['TELEGRAPH_UTF8/2006_utf8/frontpage/1061129_frontpage_story_7066216.utf8', 0.35762215551162796]\n",
            "     3 .  ['TELEGRAPH_UTF8/2005_utf8/bengal/1051031_bengal_story_5420420.utf8', 0.3530792253428615]\n",
            "     4 .  ['TELEGRAPH_UTF8/2006_utf8/nation/1061207_nation_story_7106972.utf8', 0.3505250933496992]\n",
            "     5 .  ['TELEGRAPH_UTF8/2006_utf8/nation/1061129_nation_story_7064834.utf8', 0.32628943835796903]\n",
            "     6 .  ['TELEGRAPH_UTF8/2006_utf8/nation/1060421_nation_story_6126730.utf8', 0.32511532935620086]\n",
            "     7 .  ['TELEGRAPH_UTF8/2007_utf8/frontpage/1070801_frontpage_story_8133907.utf8', 0.28600208750234174]\n",
            "     8 .  ['TELEGRAPH_UTF8/2006_utf8/frontpage/1061130_frontpage_story_7071030.utf8', 0.2839933367099555]\n",
            "     9 .  ['TELEGRAPH_UTF8/2005_utf8/bengal/1051124_bengal_story_5515971.utf8', 0.2785680530181275]\n",
            "     10 .  ['TELEGRAPH_UTF8/2007_utf8/calcutta/1070807_calcutta_story_8157942.utf8', 0.27741010891695794]\n",
            "Relevant Docs for query  123\n",
            "     1 .  ['TELEGRAPH_UTF8/2004_utf8/frontpage/1041112_frontpage_story_3995357.utf8', 0.5555675719316339]\n",
            "     2 .  ['TELEGRAPH_UTF8/2004_utf8/foreign/1041030_foreign_story_3943345.utf8', 0.5451279815468332]\n",
            "     3 .  ['TELEGRAPH_UTF8/2004_utf8/opinion/1041203_opinion_story_4069612.utf8', 0.5388797193055612]\n",
            "     4 .  ['TELEGRAPH_UTF8/2004_utf8/foreign/1041029_foreign_story_3939418.utf8', 0.527639237526771]\n",
            "     5 .  ['TELEGRAPH_UTF8/2004_utf8/opinion/1041113_opinion_story_3995952.utf8', 0.49364563085331037]\n",
            "     6 .  ['TELEGRAPH_UTF8/2004_utf8/opinion/1041208_opinion_story_4086626.utf8', 0.49089666623676803]\n",
            "     7 .  ['TELEGRAPH_UTF8/2004_utf8/foreign/1041105_foreign_story_3968081.utf8', 0.4758950641578541]\n",
            "     8 .  ['TELEGRAPH_UTF8/2004_utf8/nation/1041112_nation_story_3995294.utf8', 0.47441753079261506]\n",
            "     9 .  ['TELEGRAPH_UTF8/2004_utf8/foreign/1041110_foreign_story_3987311.utf8', 0.46901305719991115]\n",
            "     10 .  ['TELEGRAPH_UTF8/2004_utf8/foreign/1041113_foreign_index.utf8', 0.46402048028949394]\n",
            "Relevant Docs for query  124\n",
            "     1 .  ['TELEGRAPH_UTF8/2004_utf8/opinion/1040905_opinion_story_3718881.utf8', 0.415756824029426]\n",
            "     2 .  ['TELEGRAPH_UTF8/2005_utf8/opinion/1050323_opinion_story_4467789.utf8', 0.38981679011914205]\n",
            "     3 .  ['TELEGRAPH_UTF8/2004_utf8/business/1040918_business_story_3772991.utf8', 0.3593940080538095]\n",
            "     4 .  ['TELEGRAPH_UTF8/2006_utf8/opinion/1060117_opinion_story_5727653.utf8', 0.3530954002008225]\n",
            "     5 .  ['TELEGRAPH_UTF8/2007_utf8/business/1070628_business_story_7983488.utf8', 0.3513715657563629]\n",
            "     6 .  ['TELEGRAPH_UTF8/2006_utf8/business/1060607_business_story_6320638.utf8', 0.342145180199884]\n",
            "     7 .  ['TELEGRAPH_UTF8/2006_utf8/business/1060316_business_story_5971953.utf8', 0.3349706102278227]\n",
            "     8 .  ['TELEGRAPH_UTF8/2005_utf8/nation/1050217_nation_story_4389677.utf8', 0.3341780537347262]\n",
            "     9 .  ['TELEGRAPH_UTF8/2004_utf8/nation/1041124_nation_story_4041778.utf8', 0.33123867586425393]\n",
            "     10 .  ['TELEGRAPH_UTF8/2006_utf8/nation/1060212_nation_story_5836521.utf8', 0.3299237710523375]\n",
            "Relevant Docs for query  125\n",
            "     1 .  ['TELEGRAPH_UTF8/2007_utf8/foreign/1070806_foreign_story_8155233.utf8', 0.4684066165459694]\n",
            "     2 .  ['TELEGRAPH_UTF8/2007_utf8/foreign/1070729_foreign_story_8120955.utf8', 0.3896758032455594]\n",
            "     3 .  ['TELEGRAPH_UTF8/2007_utf8/foreign/1070728_foreign_story_8117144.utf8', 0.3669923273870368]\n",
            "     4 .  ['TELEGRAPH_UTF8/2007_utf8/foreign/1070822_foreign_story_8222596.utf8', 0.3652089312001916]\n",
            "     5 .  ['TELEGRAPH_UTF8/2007_utf8/opinion/1070712_opinion_story_8046139.utf8', 0.36412063506074577]\n",
            "     6 .  ['TELEGRAPH_UTF8/2007_utf8/opinion/1070520_opinion_story_7801150.utf8', 0.3558137863638735]\n",
            "     7 .  ['TELEGRAPH_UTF8/2007_utf8/foreign/1070705_foreign_story_8019084.utf8', 0.32460294329907863]\n",
            "     8 .  ['TELEGRAPH_UTF8/2007_utf8/foreign/1070711_foreign_index.utf8', 0.3197679623220946]\n",
            "     9 .  ['TELEGRAPH_UTF8/2007_utf8/foreign/1070716_foreign_story_8064283.utf8', 0.311273331210979]\n",
            "     10 .  ['TELEGRAPH_UTF8/2007_utf8/foreign/1070729_foreign_index.utf8', 0.30123438081114945]\n"
          ],
          "name": "stdout"
        }
      ]
    }
  ]
}
