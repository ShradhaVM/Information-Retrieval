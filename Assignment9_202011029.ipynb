{
  "nbformat": 4,
  "nbformat_minor": 0,
  "metadata": {
    "colab": {
      "name": "IR_Assignment9_202011029.ipynb",
      "provenance": [],
      "collapsed_sections": []
    },
    "kernelspec": {
      "name": "python3",
      "display_name": "Python 3"
    },
    "language_info": {
      "name": "python"
    }
  },
  "cells": [
    {
      "cell_type": "markdown",
      "metadata": {
        "id": "OpOhmTXK2oC4"
      },
      "source": [
        "# Memory-Based Recommendation System using Python Surprise \n",
        "*   Average of RMSE using User based Collborative Filtering: 1.02\n",
        "*   Average of RMSE using Item based Collborative Filtering: 1.03"
      ]
    },
    {
      "cell_type": "markdown",
      "metadata": {
        "id": "0EJRIOoO3YA1"
      },
      "source": [
        "**Installing the surprise package**"
      ]
    },
    {
      "cell_type": "code",
      "metadata": {
        "colab": {
          "base_uri": "https://localhost:8080/"
        },
        "id": "ofNyi_JuvVMO",
        "outputId": "bfeef1c8-274a-4fee-b655-78e9c30e7516"
      },
      "source": [
        "pip install scikit-surprise"
      ],
      "execution_count": 4,
      "outputs": [
        {
          "output_type": "stream",
          "text": [
            "Collecting scikit-surprise\n",
            "\u001b[?25l  Downloading https://files.pythonhosted.org/packages/97/37/5d334adaf5ddd65da99fc65f6507e0e4599d092ba048f4302fe8775619e8/scikit-surprise-1.1.1.tar.gz (11.8MB)\n",
            "\u001b[K     |████████████████████████████████| 11.8MB 7.3MB/s \n",
            "\u001b[?25hRequirement already satisfied: joblib>=0.11 in /usr/local/lib/python3.7/dist-packages (from scikit-surprise) (1.0.1)\n",
            "Requirement already satisfied: numpy>=1.11.2 in /usr/local/lib/python3.7/dist-packages (from scikit-surprise) (1.19.5)\n",
            "Requirement already satisfied: scipy>=1.0.0 in /usr/local/lib/python3.7/dist-packages (from scikit-surprise) (1.4.1)\n",
            "Requirement already satisfied: six>=1.10.0 in /usr/local/lib/python3.7/dist-packages (from scikit-surprise) (1.15.0)\n",
            "Building wheels for collected packages: scikit-surprise\n",
            "  Building wheel for scikit-surprise (setup.py) ... \u001b[?25l\u001b[?25hdone\n",
            "  Created wheel for scikit-surprise: filename=scikit_surprise-1.1.1-cp37-cp37m-linux_x86_64.whl size=1617573 sha256=23b091b2aa63c7cde46865e3875894e87791783285827b5de88a3186124074d1\n",
            "  Stored in directory: /root/.cache/pip/wheels/78/9c/3d/41b419c9d2aff5b6e2b4c0fc8d25c538202834058f9ed110d0\n",
            "Successfully built scikit-surprise\n",
            "Installing collected packages: scikit-surprise\n",
            "Successfully installed scikit-surprise-1.1.1\n"
          ],
          "name": "stdout"
        }
      ]
    },
    {
      "cell_type": "markdown",
      "metadata": {
        "id": "yI1Jwjab3elN"
      },
      "source": [
        "**Importing the required packages**"
      ]
    },
    {
      "cell_type": "code",
      "metadata": {
        "id": "JxtOZvE_Svd5"
      },
      "source": [
        "import statistics\n",
        "from surprise import Dataset\n",
        "from surprise import accuracy\n",
        "from surprise.model_selection import train_test_split\n",
        "from surprise import KNNBasic\n",
        "from surprise import accuracy\n",
        "from surprise.model_selection import KFold"
      ],
      "execution_count": 5,
      "outputs": []
    },
    {
      "cell_type": "markdown",
      "metadata": {
        "id": "UPM_pYHM3mTg"
      },
      "source": [
        "**Downloading MovieLens 100K dataset, loading it and dividing it into training and testing set with 80:20 ratio**"
      ]
    },
    {
      "cell_type": "code",
      "metadata": {
        "id": "_jtaYGgT0beZ",
        "colab": {
          "base_uri": "https://localhost:8080/"
        },
        "outputId": "b22e639c-4719-457c-b86a-df371d99ed64"
      },
      "source": [
        "# Loading the movielens-100k dataset\n",
        "data = Dataset.load_builtin('ml-100k')\n",
        "trainset, testset = train_test_split(data, test_size=0.20)"
      ],
      "execution_count": 6,
      "outputs": [
        {
          "output_type": "stream",
          "text": [
            "Dataset ml-100k could not be found. Do you want to download it? [Y/n] Y\n",
            "Trying to download dataset from http://files.grouplens.org/datasets/movielens/ml-100k.zip...\n",
            "Done! Dataset ml-100k has been saved to /root/.surprise_data/ml-100k\n"
          ],
          "name": "stdout"
        }
      ]
    },
    {
      "cell_type": "markdown",
      "metadata": {
        "id": "p5_R-ARj308J"
      },
      "source": [
        "# Defining the model for training\n",
        "In this section, first the model parameters are defined in varaibles sim_options_1 for user based cf and sim_options_2 for item based cf. algo_1 and algo_2 state the model that will be used for training."
      ]
    },
    {
      "cell_type": "code",
      "metadata": {
        "id": "R3A2EKeFTO9f"
      },
      "source": [
        "sim_options_1 = {'name':'cosine', 'user_based':True}\n",
        "sim_options_2 = {'name':'cosine', 'user_based':False}\n",
        "\n",
        "algo_1 = KNNBasic(sim_options = sim_options_1)\n",
        "algo_2 = KNNBasic(sim_options = sim_options_2)"
      ],
      "execution_count": 8,
      "outputs": []
    },
    {
      "cell_type": "markdown",
      "metadata": {
        "id": "i984OCNj4dfj"
      },
      "source": [
        "# Training and prection using the above defined models\n",
        "In this section, training and testing of the KNNBasic model is being done. Cross validation is performed 5 times using KFold(). And RMSE is calculated for both user based and item based model. This RMSE score is being appended to respective lists acc_1 and acc_2"
      ]
    },
    {
      "cell_type": "code",
      "metadata": {
        "colab": {
          "base_uri": "https://localhost:8080/"
        },
        "id": "Z58B52QdVh7h",
        "outputId": "d0a2634c-1f63-4fe7-ab0b-a3169d8fb93d"
      },
      "source": [
        "acc_1 = []\n",
        "acc_2 = []\n",
        "\n",
        "# Defining a cross-validation iterator\n",
        "kf = KFold(n_splits=5)\n",
        "\n",
        "for trainset, testset in kf.split(data):\n",
        "  # train and test algorithm\n",
        "  algo_1.fit(trainset)\n",
        "  algo_2.fit(trainset)\n",
        "  predictions_1 = algo_1.test(testset)\n",
        "  predictions_2 = algo_2.test(testset)\n",
        "  # Computing and appending Root Mean Squared Error\n",
        "  acc_1.append(accuracy.rmse(predictions_1, verbose=False))\n",
        "  acc_2.append(accuracy.rmse(predictions_2, verbose=False))"
      ],
      "execution_count": 9,
      "outputs": [
        {
          "output_type": "stream",
          "text": [
            "Computing the cosine similarity matrix...\n",
            "Done computing similarity matrix.\n",
            "Computing the cosine similarity matrix...\n",
            "Done computing similarity matrix.\n",
            "Computing the cosine similarity matrix...\n",
            "Done computing similarity matrix.\n",
            "Computing the cosine similarity matrix...\n",
            "Done computing similarity matrix.\n",
            "Computing the cosine similarity matrix...\n",
            "Done computing similarity matrix.\n",
            "Computing the cosine similarity matrix...\n",
            "Done computing similarity matrix.\n",
            "Computing the cosine similarity matrix...\n",
            "Done computing similarity matrix.\n",
            "Computing the cosine similarity matrix...\n",
            "Done computing similarity matrix.\n",
            "Computing the cosine similarity matrix...\n",
            "Done computing similarity matrix.\n",
            "Computing the cosine similarity matrix...\n",
            "Done computing similarity matrix.\n"
          ],
          "name": "stdout"
        }
      ]
    },
    {
      "cell_type": "markdown",
      "metadata": {
        "id": "ymC01puh42vo"
      },
      "source": [
        "**Printing the RMSE scores for all five folds of cross validation and for both the models**"
      ]
    },
    {
      "cell_type": "code",
      "metadata": {
        "colab": {
          "base_uri": "https://localhost:8080/"
        },
        "id": "Lm7P-Az0qIoU",
        "outputId": "40f31719-b9b4-4370-9a6b-8ab90cfff127"
      },
      "source": [
        "print(\"For User based Collaborative Filtering\")\n",
        "for i in range(5):\n",
        "  print(\"RMSE of fold\",i+1, \":\", round(acc_1[i],2))\n",
        "\n",
        "print(\"\\n\")\n",
        "print(\"For Item based Collaborative Filtering\")\n",
        "for i in range(5):\n",
        "  print(\"RMSE of fold\",i+1, \":\", round(acc_2[i],2))"
      ],
      "execution_count": 10,
      "outputs": [
        {
          "output_type": "stream",
          "text": [
            "For User based Collaborative Filtering\n",
            "RMSE of fold 1 : 1.02\n",
            "RMSE of fold 2 : 1.02\n",
            "RMSE of fold 3 : 1.02\n",
            "RMSE of fold 4 : 1.02\n",
            "RMSE of fold 5 : 1.01\n",
            "\n",
            "\n",
            "For Item based Collaborative Filtering\n",
            "RMSE of fold 1 : 1.03\n",
            "RMSE of fold 2 : 1.03\n",
            "RMSE of fold 3 : 1.03\n",
            "RMSE of fold 4 : 1.03\n",
            "RMSE of fold 5 : 1.02\n"
          ],
          "name": "stdout"
        }
      ]
    },
    {
      "cell_type": "markdown",
      "metadata": {
        "id": "lYKtUO_M5I5M"
      },
      "source": [
        "**Printing the average of RMSE score for both the techniques**"
      ]
    },
    {
      "cell_type": "code",
      "metadata": {
        "colab": {
          "base_uri": "https://localhost:8080/"
        },
        "id": "ypCN-HYcquGD",
        "outputId": "0e91588a-f387-4137-9450-e105554959b6"
      },
      "source": [
        "print(\"Average of RMSE using User based CF:\", round(statistics.mean(acc_1),2))\n",
        "print(\"Average of RMSE using Item based CF:\", round(statistics.mean(acc_2),2))"
      ],
      "execution_count": 11,
      "outputs": [
        {
          "output_type": "stream",
          "text": [
            "Average of RMSE using User based CF: 1.02\n",
            "Average of RMSE using Item based CF: 1.03\n"
          ],
          "name": "stdout"
        }
      ]
    }
  ]
}